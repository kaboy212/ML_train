{
 "cells": [
  {
   "cell_type": "markdown",
   "id": "9e05cd44",
   "metadata": {
    "papermill": {
     "duration": 0.015408,
     "end_time": "2023-01-02T10:05:46.575407",
     "exception": false,
     "start_time": "2023-01-02T10:05:46.559999",
     "status": "completed"
    },
    "tags": []
   },
   "source": [
    "## 1  - Data Exploration"
   ]
  },
  {
   "cell_type": "code",
   "execution_count": 10,
   "id": "41dafc65",
   "metadata": {
    "_kg_hide-input": true,
    "execution": {
     "iopub.execute_input": "2023-01-02T10:05:46.606094Z",
     "iopub.status.busy": "2023-01-02T10:05:46.605646Z",
     "iopub.status.idle": "2023-01-02T10:05:52.465296Z",
     "shell.execute_reply": "2023-01-02T10:05:52.464424Z"
    },
    "papermill": {
     "duration": 5.87899,
     "end_time": "2023-01-02T10:05:52.468069",
     "exception": false,
     "start_time": "2023-01-02T10:05:46.589079",
     "status": "completed"
    },
    "tags": []
   },
   "outputs": [
    {
     "name": "stdout",
     "output_type": "stream",
     "text": [
      "Requirement already satisfied: xgboost in /home/dorsh-gnu/.local/lib/python3.8/site-packages (1.7.2)\n",
      "Requirement already satisfied: numpy in /home/dorsh-gnu/.local/lib/python3.8/site-packages (from xgboost) (1.24.1)\n",
      "Requirement already satisfied: scipy in /home/dorsh-gnu/.local/lib/python3.8/site-packages (from xgboost) (1.9.3)\n"
     ]
    }
   ],
   "source": [
    "# imports \n",
    "import numpy as np\n",
    "import pandas as pd \n",
    "import os\n",
    "import random\n",
    "!pip install xgboost\n",
    "#import tensorflow as tf\n",
    "import xgboost as xgb\n",
    "\n",
    "# visualisation'\n",
    "import matplotlib.pyplot as plt\n",
    "import seaborn as sns \n",
    "sns.set_style(style = 'darkgrid')\n",
    "sns.set_palette('viridis')\n",
    "\n",
    "%matplotlib inline"
   ]
  },
  {
   "cell_type": "code",
   "execution_count": null,
   "id": "a449ceb9",
   "metadata": {
    "_kg_hide-input": true,
    "execution": {
     "iopub.execute_input": "2023-01-02T10:05:52.497751Z",
     "iopub.status.busy": "2023-01-02T10:05:52.497082Z",
     "iopub.status.idle": "2023-01-02T10:05:52.503890Z",
     "shell.execute_reply": "2023-01-02T10:05:52.502821Z"
    },
    "papermill": {
     "duration": 0.026575,
     "end_time": "2023-01-02T10:05:52.508165",
     "exception": false,
     "start_time": "2023-01-02T10:05:52.481590",
     "status": "completed"
    },
    "tags": []
   },
   "outputs": [],
   "source": []
  },
  {
   "cell_type": "code",
   "execution_count": 11,
   "id": "dd5107aa",
   "metadata": {
    "_kg_hide-input": true,
    "execution": {
     "iopub.execute_input": "2023-01-02T10:05:52.539534Z",
     "iopub.status.busy": "2023-01-02T10:05:52.538842Z",
     "iopub.status.idle": "2023-01-02T10:05:52.596289Z",
     "shell.execute_reply": "2023-01-02T10:05:52.594933Z"
    },
    "papermill": {
     "duration": 0.074714,
     "end_time": "2023-01-02T10:05:52.599001",
     "exception": false,
     "start_time": "2023-01-02T10:05:52.524287",
     "status": "completed"
    },
    "tags": []
   },
   "outputs": [
    {
     "data": {
      "text/html": [
       "<div>\n",
       "<style scoped>\n",
       "    .dataframe tbody tr th:only-of-type {\n",
       "        vertical-align: middle;\n",
       "    }\n",
       "\n",
       "    .dataframe tbody tr th {\n",
       "        vertical-align: top;\n",
       "    }\n",
       "\n",
       "    .dataframe thead th {\n",
       "        text-align: right;\n",
       "    }\n",
       "</style>\n",
       "<table border=\"1\" class=\"dataframe\">\n",
       "  <thead>\n",
       "    <tr style=\"text-align: right;\">\n",
       "      <th></th>\n",
       "      <th>PassengerId</th>\n",
       "      <th>Survived</th>\n",
       "      <th>Pclass</th>\n",
       "      <th>Name</th>\n",
       "      <th>Sex</th>\n",
       "      <th>Age</th>\n",
       "      <th>SibSp</th>\n",
       "      <th>Parch</th>\n",
       "      <th>Ticket</th>\n",
       "      <th>Fare</th>\n",
       "      <th>Cabin</th>\n",
       "      <th>Embarked</th>\n",
       "    </tr>\n",
       "  </thead>\n",
       "  <tbody>\n",
       "    <tr>\n",
       "      <th>0</th>\n",
       "      <td>1</td>\n",
       "      <td>0</td>\n",
       "      <td>3</td>\n",
       "      <td>Braund, Mr. Owen Harris</td>\n",
       "      <td>male</td>\n",
       "      <td>22.0</td>\n",
       "      <td>1</td>\n",
       "      <td>0</td>\n",
       "      <td>A/5 21171</td>\n",
       "      <td>7.2500</td>\n",
       "      <td>NaN</td>\n",
       "      <td>S</td>\n",
       "    </tr>\n",
       "    <tr>\n",
       "      <th>1</th>\n",
       "      <td>2</td>\n",
       "      <td>1</td>\n",
       "      <td>1</td>\n",
       "      <td>Cumings, Mrs. John Bradley (Florence Briggs Th...</td>\n",
       "      <td>female</td>\n",
       "      <td>38.0</td>\n",
       "      <td>1</td>\n",
       "      <td>0</td>\n",
       "      <td>PC 17599</td>\n",
       "      <td>71.2833</td>\n",
       "      <td>C85</td>\n",
       "      <td>C</td>\n",
       "    </tr>\n",
       "    <tr>\n",
       "      <th>2</th>\n",
       "      <td>3</td>\n",
       "      <td>1</td>\n",
       "      <td>3</td>\n",
       "      <td>Heikkinen, Miss. Laina</td>\n",
       "      <td>female</td>\n",
       "      <td>26.0</td>\n",
       "      <td>0</td>\n",
       "      <td>0</td>\n",
       "      <td>STON/O2. 3101282</td>\n",
       "      <td>7.9250</td>\n",
       "      <td>NaN</td>\n",
       "      <td>S</td>\n",
       "    </tr>\n",
       "    <tr>\n",
       "      <th>3</th>\n",
       "      <td>4</td>\n",
       "      <td>1</td>\n",
       "      <td>1</td>\n",
       "      <td>Futrelle, Mrs. Jacques Heath (Lily May Peel)</td>\n",
       "      <td>female</td>\n",
       "      <td>35.0</td>\n",
       "      <td>1</td>\n",
       "      <td>0</td>\n",
       "      <td>113803</td>\n",
       "      <td>53.1000</td>\n",
       "      <td>C123</td>\n",
       "      <td>S</td>\n",
       "    </tr>\n",
       "    <tr>\n",
       "      <th>4</th>\n",
       "      <td>5</td>\n",
       "      <td>0</td>\n",
       "      <td>3</td>\n",
       "      <td>Allen, Mr. William Henry</td>\n",
       "      <td>male</td>\n",
       "      <td>35.0</td>\n",
       "      <td>0</td>\n",
       "      <td>0</td>\n",
       "      <td>373450</td>\n",
       "      <td>8.0500</td>\n",
       "      <td>NaN</td>\n",
       "      <td>S</td>\n",
       "    </tr>\n",
       "  </tbody>\n",
       "</table>\n",
       "</div>"
      ],
      "text/plain": [
       "   PassengerId  Survived  Pclass  \\\n",
       "0            1         0       3   \n",
       "1            2         1       1   \n",
       "2            3         1       3   \n",
       "3            4         1       1   \n",
       "4            5         0       3   \n",
       "\n",
       "                                                Name     Sex   Age  SibSp  \\\n",
       "0                            Braund, Mr. Owen Harris    male  22.0      1   \n",
       "1  Cumings, Mrs. John Bradley (Florence Briggs Th...  female  38.0      1   \n",
       "2                             Heikkinen, Miss. Laina  female  26.0      0   \n",
       "3       Futrelle, Mrs. Jacques Heath (Lily May Peel)  female  35.0      1   \n",
       "4                           Allen, Mr. William Henry    male  35.0      0   \n",
       "\n",
       "   Parch            Ticket     Fare Cabin Embarked  \n",
       "0      0         A/5 21171   7.2500   NaN        S  \n",
       "1      0          PC 17599  71.2833   C85        C  \n",
       "2      0  STON/O2. 3101282   7.9250   NaN        S  \n",
       "3      0            113803  53.1000  C123        S  \n",
       "4      0            373450   8.0500   NaN        S  "
      ]
     },
     "execution_count": 11,
     "metadata": {},
     "output_type": "execute_result"
    }
   ],
   "source": [
    "train = pd.read_csv('train.csv')\n",
    "test = pd.read_csv('test.csv')\n",
    "gender_submission = pd.read_csv('gender_submission.csv')\n",
    "\n",
    "train.head()"
   ]
  },
  {
   "cell_type": "code",
   "execution_count": 12,
   "id": "576f685c",
   "metadata": {
    "_kg_hide-input": true,
    "execution": {
     "iopub.execute_input": "2023-01-02T10:05:52.628294Z",
     "iopub.status.busy": "2023-01-02T10:05:52.627921Z",
     "iopub.status.idle": "2023-01-02T10:05:52.650400Z",
     "shell.execute_reply": "2023-01-02T10:05:52.648882Z"
    },
    "papermill": {
     "duration": 0.040473,
     "end_time": "2023-01-02T10:05:52.653338",
     "exception": false,
     "start_time": "2023-01-02T10:05:52.612865",
     "status": "completed"
    },
    "tags": []
   },
   "outputs": [
    {
     "name": "stdout",
     "output_type": "stream",
     "text": [
      "Test data\n"
     ]
    },
    {
     "data": {
      "text/html": [
       "<div>\n",
       "<style scoped>\n",
       "    .dataframe tbody tr th:only-of-type {\n",
       "        vertical-align: middle;\n",
       "    }\n",
       "\n",
       "    .dataframe tbody tr th {\n",
       "        vertical-align: top;\n",
       "    }\n",
       "\n",
       "    .dataframe thead th {\n",
       "        text-align: right;\n",
       "    }\n",
       "</style>\n",
       "<table border=\"1\" class=\"dataframe\">\n",
       "  <thead>\n",
       "    <tr style=\"text-align: right;\">\n",
       "      <th></th>\n",
       "      <th>PassengerId</th>\n",
       "      <th>Pclass</th>\n",
       "      <th>Name</th>\n",
       "      <th>Sex</th>\n",
       "      <th>Age</th>\n",
       "      <th>SibSp</th>\n",
       "      <th>Parch</th>\n",
       "      <th>Ticket</th>\n",
       "      <th>Fare</th>\n",
       "      <th>Cabin</th>\n",
       "      <th>Embarked</th>\n",
       "      <th>Survived</th>\n",
       "    </tr>\n",
       "  </thead>\n",
       "  <tbody>\n",
       "    <tr>\n",
       "      <th>0</th>\n",
       "      <td>892</td>\n",
       "      <td>3</td>\n",
       "      <td>Kelly, Mr. James</td>\n",
       "      <td>male</td>\n",
       "      <td>34.5</td>\n",
       "      <td>0</td>\n",
       "      <td>0</td>\n",
       "      <td>330911</td>\n",
       "      <td>7.8292</td>\n",
       "      <td>NaN</td>\n",
       "      <td>Q</td>\n",
       "      <td>0</td>\n",
       "    </tr>\n",
       "    <tr>\n",
       "      <th>1</th>\n",
       "      <td>893</td>\n",
       "      <td>3</td>\n",
       "      <td>Wilkes, Mrs. James (Ellen Needs)</td>\n",
       "      <td>female</td>\n",
       "      <td>47.0</td>\n",
       "      <td>1</td>\n",
       "      <td>0</td>\n",
       "      <td>363272</td>\n",
       "      <td>7.0000</td>\n",
       "      <td>NaN</td>\n",
       "      <td>S</td>\n",
       "      <td>1</td>\n",
       "    </tr>\n",
       "    <tr>\n",
       "      <th>2</th>\n",
       "      <td>894</td>\n",
       "      <td>2</td>\n",
       "      <td>Myles, Mr. Thomas Francis</td>\n",
       "      <td>male</td>\n",
       "      <td>62.0</td>\n",
       "      <td>0</td>\n",
       "      <td>0</td>\n",
       "      <td>240276</td>\n",
       "      <td>9.6875</td>\n",
       "      <td>NaN</td>\n",
       "      <td>Q</td>\n",
       "      <td>0</td>\n",
       "    </tr>\n",
       "    <tr>\n",
       "      <th>3</th>\n",
       "      <td>895</td>\n",
       "      <td>3</td>\n",
       "      <td>Wirz, Mr. Albert</td>\n",
       "      <td>male</td>\n",
       "      <td>27.0</td>\n",
       "      <td>0</td>\n",
       "      <td>0</td>\n",
       "      <td>315154</td>\n",
       "      <td>8.6625</td>\n",
       "      <td>NaN</td>\n",
       "      <td>S</td>\n",
       "      <td>0</td>\n",
       "    </tr>\n",
       "    <tr>\n",
       "      <th>4</th>\n",
       "      <td>896</td>\n",
       "      <td>3</td>\n",
       "      <td>Hirvonen, Mrs. Alexander (Helga E Lindqvist)</td>\n",
       "      <td>female</td>\n",
       "      <td>22.0</td>\n",
       "      <td>1</td>\n",
       "      <td>1</td>\n",
       "      <td>3101298</td>\n",
       "      <td>12.2875</td>\n",
       "      <td>NaN</td>\n",
       "      <td>S</td>\n",
       "      <td>1</td>\n",
       "    </tr>\n",
       "  </tbody>\n",
       "</table>\n",
       "</div>"
      ],
      "text/plain": [
       "   PassengerId  Pclass                                          Name     Sex  \\\n",
       "0          892       3                              Kelly, Mr. James    male   \n",
       "1          893       3              Wilkes, Mrs. James (Ellen Needs)  female   \n",
       "2          894       2                     Myles, Mr. Thomas Francis    male   \n",
       "3          895       3                              Wirz, Mr. Albert    male   \n",
       "4          896       3  Hirvonen, Mrs. Alexander (Helga E Lindqvist)  female   \n",
       "\n",
       "    Age  SibSp  Parch   Ticket     Fare Cabin Embarked  Survived  \n",
       "0  34.5      0      0   330911   7.8292   NaN        Q         0  \n",
       "1  47.0      1      0   363272   7.0000   NaN        S         1  \n",
       "2  62.0      0      0   240276   9.6875   NaN        Q         0  \n",
       "3  27.0      0      0   315154   8.6625   NaN        S         0  \n",
       "4  22.0      1      1  3101298  12.2875   NaN        S         1  "
      ]
     },
     "execution_count": 12,
     "metadata": {},
     "output_type": "execute_result"
    }
   ],
   "source": [
    "# add data from gender_submission\n",
    "test['Survived'] = gender_submission['Survived']\n",
    "\n",
    "print('Test data')\n",
    "test.head()"
   ]
  },
  {
   "cell_type": "code",
   "execution_count": 13,
   "id": "371b5927",
   "metadata": {
    "_kg_hide-input": true,
    "execution": {
     "iopub.execute_input": "2023-01-02T10:05:52.683931Z",
     "iopub.status.busy": "2023-01-02T10:05:52.683551Z",
     "iopub.status.idle": "2023-01-02T10:05:52.697125Z",
     "shell.execute_reply": "2023-01-02T10:05:52.695789Z"
    },
    "papermill": {
     "duration": 0.031517,
     "end_time": "2023-01-02T10:05:52.699387",
     "exception": false,
     "start_time": "2023-01-02T10:05:52.667870",
     "status": "completed"
    },
    "tags": []
   },
   "outputs": [
    {
     "name": "stdout",
     "output_type": "stream",
     "text": [
      "---Train data---\n",
      "Data Shape: 891 rows X 12 columns\n",
      "Total no. of passengers: 891\n",
      "Number of unique Passenger Classes: 3\n",
      "Number of unique Fare amounts: 248\n",
      "\n",
      "---Test data---\n",
      "Data Shape: 418 rows X 12 columns\n",
      "Total no. of passengers: 418\n",
      "Number of unique Passenger Classes: 3\n",
      "Number of unique Fare amounts: 169\n"
     ]
    }
   ],
   "source": [
    "print('---Train data---')\n",
    "print('Data Shape: {:,d} rows X {:d} columns'.format(train.shape[0], train.shape[1]))\n",
    "print('Total no. of passengers: {:,d}'.format(len(train)))\n",
    "# print('Number of unique tickets: {:d}'.format(train['Ticket'].nunique()))\n",
    "print('Number of unique Passenger Classes: {:,d}'.format(train['Pclass'].nunique()))\n",
    "print('Number of unique Fare amounts: {:,d}'.format(train['Fare'].nunique()))\n",
    "print()\n",
    "\n",
    "print('---Test data---')\n",
    "print('Data Shape: {:,d} rows X {:d} columns'.format(test.shape[0], test.shape[1]))\n",
    "print('Total no. of passengers: {:,d}'.format(len(test)))\n",
    "# print('Number of unique tickets: {:,d}'.format(test['Ticket'].nunique()))\n",
    "print('Number of unique Passenger Classes: {:,d}'.format(test['Pclass'].nunique()))\n",
    "print('Number of unique Fare amounts: {:,d}'.format(test['Fare'].nunique()))"
   ]
  },
  {
   "cell_type": "markdown",
   "id": "39ebea8b",
   "metadata": {
    "papermill": {
     "duration": 0.013713,
     "end_time": "2023-01-02T10:05:52.727345",
     "exception": false,
     "start_time": "2023-01-02T10:05:52.713632",
     "status": "completed"
    },
    "tags": []
   },
   "source": [
    "## 1.1 Feature Exploration\n",
    "\n",
    "Categorical and Continuos Features"
   ]
  },
  {
   "cell_type": "code",
   "execution_count": 14,
   "id": "a61b6bc8",
   "metadata": {
    "_kg_hide-input": true,
    "execution": {
     "iopub.execute_input": "2023-01-02T10:05:52.757251Z",
     "iopub.status.busy": "2023-01-02T10:05:52.756865Z",
     "iopub.status.idle": "2023-01-02T10:05:54.826426Z",
     "shell.execute_reply": "2023-01-02T10:05:54.825258Z"
    },
    "papermill": {
     "duration": 2.087853,
     "end_time": "2023-01-02T10:05:54.829354",
     "exception": false,
     "start_time": "2023-01-02T10:05:52.741501",
     "status": "completed"
    },
    "tags": []
   },
   "outputs": [
    {
     "data": {
      "image/png": "[encoded data removed]",
      "text/plain": [
       "<Figure size 1500x2500 with 8 Axes>"
      ]
     },
     "metadata": {},
     "output_type": "display_data"
    }
   ],
   "source": [
    "fig, axs = plt.subplots(nrows = 4, ncols = 2, figsize =(15,25))\n",
    "\n",
    "train_copy = train.copy()\n",
    "features = ['Survived', 'Pclass', 'Sex', 'Age', 'SibSp', 'Parch', 'Fare', 'Embarked']\n",
    "axs = axs.flatten()\n",
    "\n",
    "for i, feature in enumerate(features):\n",
    "    _ = sns.histplot(train_copy, x=\"{}\".format(feature), ax=axs[i])\n",
    "    _ = axs[i].set_title(\"{} Distribution\".format(feature))\n",
    "    _ = axs[i].set_ylabel(\"\")\n",
    "    _ = axs[i].set_xlabel(\"\")"
   ]
  },
  {
   "cell_type": "markdown",
   "id": "6661d931",
   "metadata": {
    "papermill": {
     "duration": 0.014552,
     "end_time": "2023-01-02T10:05:54.858943",
     "exception": false,
     "start_time": "2023-01-02T10:05:54.844391",
     "status": "completed"
    },
    "tags": []
   },
   "source": [
    "## 1.2 Spearman Correlation"
   ]
  },
  {
   "cell_type": "code",
   "execution_count": 15,
   "id": "664917b7",
   "metadata": {
    "_kg_hide-input": true,
    "execution": {
     "iopub.execute_input": "2023-01-02T10:05:54.892477Z",
     "iopub.status.busy": "2023-01-02T10:05:54.890989Z",
     "iopub.status.idle": "2023-01-02T10:05:55.331213Z",
     "shell.execute_reply": "2023-01-02T10:05:55.330328Z"
    },
    "papermill": {
     "duration": 0.460353,
     "end_time": "2023-01-02T10:05:55.333986",
     "exception": false,
     "start_time": "2023-01-02T10:05:54.873633",
     "status": "completed"
    },
    "tags": []
   },
   "outputs": [
    {
     "name": "stderr",
     "output_type": "stream",
     "text": [
      "/tmp/ipykernel_12833/3799238179.py:5: FutureWarning: The default value of numeric_only in DataFrame.corr is deprecated. In a future version, it will default to False. Select only valid columns or specify the value of numeric_only to silence this warning.\n",
      "  corr_matrix = train[features].corr('spearman')\n"
     ]
    },
    {
     "data": {
      "text/plain": [
       "<AxesSubplot: >"
      ]
     },
     "execution_count": 15,
     "metadata": {},
     "output_type": "execute_result"
    },
    {
     "data": {
      "image/png": "[encoded data removed]",
      "text/plain": [
       "<Figure size 1200x1200 with 2 Axes>"
      ]
     },
     "metadata": {},
     "output_type": "display_data"
    }
   ],
   "source": [
    "plt.figure(figsize = (12,12))\n",
    "features = ['PassengerId', 'Pclass', 'Name', 'Sex', 'Age', 'SibSp',\n",
    "           'Parch', 'Ticket', 'Fare', 'Cabin', 'Embarked', 'Survived']\n",
    "\n",
    "corr_matrix = train[features].corr('spearman')\n",
    "sns.heatmap(corr_matrix, \n",
    "            annot = True, \n",
    "            cmap = 'flare', \n",
    "            mask = np.triu(np.ones_like(corr_matrix, dtype = bool)),  \n",
    "            center = 0,\n",
    "            square = True, \n",
    "            linewidths = 0.1 )"
   ]
  },
  {
   "cell_type": "markdown",
   "id": "b5e52d28",
   "metadata": {
    "papermill": {
     "duration": 0.015427,
     "end_time": "2023-01-02T10:05:55.369294",
     "exception": false,
     "start_time": "2023-01-02T10:05:55.353867",
     "status": "completed"
    },
    "tags": []
   },
   "source": [
    "## 2 - Missing Data"
   ]
  },
  {
   "cell_type": "code",
   "execution_count": 16,
   "id": "fa2635a0",
   "metadata": {
    "_kg_hide-input": true,
    "execution": {
     "iopub.execute_input": "2023-01-02T10:05:55.402663Z",
     "iopub.status.busy": "2023-01-02T10:05:55.402276Z",
     "iopub.status.idle": "2023-01-02T10:05:55.415046Z",
     "shell.execute_reply": "2023-01-02T10:05:55.414021Z"
    },
    "papermill": {
     "duration": 0.032409,
     "end_time": "2023-01-02T10:05:55.418071",
     "exception": false,
     "start_time": "2023-01-02T10:05:55.385662",
     "status": "completed"
    },
    "tags": []
   },
   "outputs": [
    {
     "name": "stdout",
     "output_type": "stream",
     "text": [
      "Percentage of missing data per feature in the train set:\n"
     ]
    },
    {
     "data": {
      "text/plain": [
       "PassengerId     0.000000\n",
       "Survived        0.000000\n",
       "Pclass          0.000000\n",
       "Name            0.000000\n",
       "Sex             0.000000\n",
       "Age            19.865320\n",
       "SibSp           0.000000\n",
       "Parch           0.000000\n",
       "Ticket          0.000000\n",
       "Fare            0.000000\n",
       "Cabin          77.104377\n",
       "Embarked        0.224467\n",
       "dtype: float64"
      ]
     },
     "execution_count": 16,
     "metadata": {},
     "output_type": "execute_result"
    }
   ],
   "source": [
    "print('Percentage of missing data per feature in the train set:')\n",
    "100 * train.isnull().sum() / len(train)"
   ]
  },
  {
   "cell_type": "code",
   "execution_count": 17,
   "id": "33f0bcf9",
   "metadata": {
    "_kg_hide-input": true,
    "execution": {
     "iopub.execute_input": "2023-01-02T10:05:55.453065Z",
     "iopub.status.busy": "2023-01-02T10:05:55.452166Z",
     "iopub.status.idle": "2023-01-02T10:05:55.465153Z",
     "shell.execute_reply": "2023-01-02T10:05:55.464158Z"
    },
    "papermill": {
     "duration": 0.032573,
     "end_time": "2023-01-02T10:05:55.467220",
     "exception": false,
     "start_time": "2023-01-02T10:05:55.434647",
     "status": "completed"
    },
    "tags": []
   },
   "outputs": [
    {
     "name": "stdout",
     "output_type": "stream",
     "text": [
      "Percentage of missing data per feature in the test set:\n"
     ]
    },
    {
     "data": {
      "text/plain": [
       "PassengerId     0.000000\n",
       "Pclass          0.000000\n",
       "Name            0.000000\n",
       "Sex             0.000000\n",
       "Age            20.574163\n",
       "SibSp           0.000000\n",
       "Parch           0.000000\n",
       "Ticket          0.000000\n",
       "Fare            0.239234\n",
       "Cabin          78.229665\n",
       "Embarked        0.000000\n",
       "Survived        0.000000\n",
       "dtype: float64"
      ]
     },
     "execution_count": 17,
     "metadata": {},
     "output_type": "execute_result"
    }
   ],
   "source": [
    "print('Percentage of missing data per feature in the test set:')\n",
    "100 * test.isnull().sum() / len(test)"
   ]
  },
  {
   "cell_type": "markdown",
   "id": "6d267707",
   "metadata": {
    "papermill": {
     "duration": 0.015578,
     "end_time": "2023-01-02T10:05:55.498576",
     "exception": false,
     "start_time": "2023-01-02T10:05:55.482998",
     "status": "completed"
    },
    "tags": []
   },
   "source": [
    "## 2.1 Age (Train & Test)"
   ]
  },
  {
   "cell_type": "code",
   "execution_count": 18,
   "id": "d2ce5e8e",
   "metadata": {
    "_kg_hide-input": true,
    "execution": {
     "iopub.execute_input": "2023-01-02T10:05:55.535032Z",
     "iopub.status.busy": "2023-01-02T10:05:55.533979Z",
     "iopub.status.idle": "2023-01-02T10:05:55.615646Z",
     "shell.execute_reply": "2023-01-02T10:05:55.614592Z"
    },
    "papermill": {
     "duration": 0.103075,
     "end_time": "2023-01-02T10:05:55.617925",
     "exception": false,
     "start_time": "2023-01-02T10:05:55.514850",
     "status": "completed"
    },
    "tags": []
   },
   "outputs": [
    {
     "data": {
      "text/html": [
       "<style type=\"text/css\">\n",
       "#T_f8eec_row0_col1 {\n",
       "  width: 10em;\n",
       "  background: linear-gradient(90deg, #7BCC70 100.0%, transparent 100.0%);\n",
       "}\n",
       "#T_f8eec_row0_col2 {\n",
       "  background-color: #fff5f0;\n",
       "  color: #000000;\n",
       "}\n",
       "#T_f8eec_row0_col5 {\n",
       "  background-color: #3b4cc0;\n",
       "  color: #f1f1f1;\n",
       "}\n",
       "</style>\n",
       "<table id=\"T_f8eec\">\n",
       "  <thead>\n",
       "    <tr>\n",
       "      <th class=\"blank level0\" >&nbsp;</th>\n",
       "      <th id=\"T_f8eec_level0_col0\" class=\"col_heading level0 col0\" >count</th>\n",
       "      <th id=\"T_f8eec_level0_col1\" class=\"col_heading level0 col1\" >mean</th>\n",
       "      <th id=\"T_f8eec_level0_col2\" class=\"col_heading level0 col2\" >std</th>\n",
       "      <th id=\"T_f8eec_level0_col3\" class=\"col_heading level0 col3\" >min</th>\n",
       "      <th id=\"T_f8eec_level0_col4\" class=\"col_heading level0 col4\" >25%</th>\n",
       "      <th id=\"T_f8eec_level0_col5\" class=\"col_heading level0 col5\" >50%</th>\n",
       "      <th id=\"T_f8eec_level0_col6\" class=\"col_heading level0 col6\" >75%</th>\n",
       "      <th id=\"T_f8eec_level0_col7\" class=\"col_heading level0 col7\" >max</th>\n",
       "    </tr>\n",
       "  </thead>\n",
       "  <tbody>\n",
       "    <tr>\n",
       "      <th id=\"T_f8eec_level0_row0\" class=\"row_heading level0 row0\" >Age</th>\n",
       "      <td id=\"T_f8eec_row0_col0\" class=\"data row0 col0\" >714.000000</td>\n",
       "      <td id=\"T_f8eec_row0_col1\" class=\"data row0 col1\" >29.699118</td>\n",
       "      <td id=\"T_f8eec_row0_col2\" class=\"data row0 col2\" >14.526497</td>\n",
       "      <td id=\"T_f8eec_row0_col3\" class=\"data row0 col3\" >0.420000</td>\n",
       "      <td id=\"T_f8eec_row0_col4\" class=\"data row0 col4\" >20.125000</td>\n",
       "      <td id=\"T_f8eec_row0_col5\" class=\"data row0 col5\" >28.000000</td>\n",
       "      <td id=\"T_f8eec_row0_col6\" class=\"data row0 col6\" >38.000000</td>\n",
       "      <td id=\"T_f8eec_row0_col7\" class=\"data row0 col7\" >80.000000</td>\n",
       "    </tr>\n",
       "  </tbody>\n",
       "</table>\n"
      ],
      "text/plain": [
       "<pandas.io.formats.style.Styler at 0x7f0bb761edf0>"
      ]
     },
     "execution_count": 18,
     "metadata": {},
     "output_type": "execute_result"
    }
   ],
   "source": [
    "features = [\"Age\"]\n",
    "train[features].describe().T.style.bar(\n",
    "    subset=['mean'], color='#7BCC70')\\\n",
    "    .background_gradient(subset=['std'], cmap='Reds')\\\n",
    "    .background_gradient(subset=['50%'], cmap='coolwarm')"
   ]
  },
  {
   "cell_type": "code",
   "execution_count": 19,
   "id": "30a9953d",
   "metadata": {
    "_kg_hide-input": true,
    "execution": {
     "iopub.execute_input": "2023-01-02T10:05:55.651883Z",
     "iopub.status.busy": "2023-01-02T10:05:55.651221Z",
     "iopub.status.idle": "2023-01-02T10:05:56.049728Z",
     "shell.execute_reply": "2023-01-02T10:05:56.048661Z"
    },
    "papermill": {
     "duration": 0.418049,
     "end_time": "2023-01-02T10:05:56.052116",
     "exception": false,
     "start_time": "2023-01-02T10:05:55.634067",
     "status": "completed"
    },
    "tags": []
   },
   "outputs": [
    {
     "name": "stderr",
     "output_type": "stream",
     "text": [
      "/tmp/ipykernel_12833/4213715170.py:2: UserWarning: Ignoring `palette` because no `hue` variable has been assigned.\n",
      "  sns.histplot(x = 'Age', data = train, palette = 'flare', bins = 40)\n"
     ]
    },
    {
     "data": {
      "text/plain": [
       "<AxesSubplot: xlabel='Age', ylabel='Count'>"
      ]
     },
     "execution_count": 19,
     "metadata": {},
     "output_type": "execute_result"
    },
    {
     "data": {
      "image/png": "[encoded data removed]",
      "text/plain": [
       "<Figure size 1500x800 with 1 Axes>"
      ]
     },
     "metadata": {},
     "output_type": "display_data"
    }
   ],
   "source": [
    "plt.figure(figsize = (15, 8))\n",
    "sns.histplot(x = 'Age', data = train, palette = 'flare', bins = 40)"
   ]
  },
  {
   "cell_type": "code",
   "execution_count": 20,
   "id": "152c5acd",
   "metadata": {
    "_kg_hide-input": true,
    "execution": {
     "iopub.execute_input": "2023-01-02T10:05:56.087130Z",
     "iopub.status.busy": "2023-01-02T10:05:56.086401Z",
     "iopub.status.idle": "2023-01-02T10:05:56.118178Z",
     "shell.execute_reply": "2023-01-02T10:05:56.116641Z"
    },
    "papermill": {
     "duration": 0.05221,
     "end_time": "2023-01-02T10:05:56.120845",
     "exception": false,
     "start_time": "2023-01-02T10:05:56.068635",
     "status": "completed"
    },
    "tags": []
   },
   "outputs": [
    {
     "name": "stdout",
     "output_type": "stream",
     "text": [
      "Age grouped by Pclass:\n"
     ]
    },
    {
     "data": {
      "text/html": [
       "<style type=\"text/css\">\n",
       "#T_1cd8f_row0_col1 {\n",
       "  width: 10em;\n",
       "  background: linear-gradient(90deg, #7BCC70 100.0%, transparent 100.0%);\n",
       "}\n",
       "#T_1cd8f_row0_col2, #T_1cd8f_row0_col5 {\n",
       "  background-color: #4b2362;\n",
       "  color: #f1f1f1;\n",
       "}\n",
       "#T_1cd8f_row1_col1 {\n",
       "  width: 10em;\n",
       "  background: linear-gradient(90deg, #7BCC70 78.1%, transparent 78.1%);\n",
       "}\n",
       "#T_1cd8f_row1_col2 {\n",
       "  background-color: #9d3670;\n",
       "  color: #f1f1f1;\n",
       "}\n",
       "#T_1cd8f_row1_col5 {\n",
       "  background-color: #d8525e;\n",
       "  color: #f1f1f1;\n",
       "}\n",
       "#T_1cd8f_row2_col1 {\n",
       "  width: 10em;\n",
       "  background: linear-gradient(90deg, #7BCC70 65.8%, transparent 65.8%);\n",
       "}\n",
       "#T_1cd8f_row2_col2, #T_1cd8f_row2_col5 {\n",
       "  background-color: #edb081;\n",
       "  color: #000000;\n",
       "}\n",
       "</style>\n",
       "<table id=\"T_1cd8f\">\n",
       "  <thead>\n",
       "    <tr>\n",
       "      <th class=\"blank level0\" >&nbsp;</th>\n",
       "      <th id=\"T_1cd8f_level0_col0\" class=\"col_heading level0 col0\" >count</th>\n",
       "      <th id=\"T_1cd8f_level0_col1\" class=\"col_heading level0 col1\" >mean</th>\n",
       "      <th id=\"T_1cd8f_level0_col2\" class=\"col_heading level0 col2\" >std</th>\n",
       "      <th id=\"T_1cd8f_level0_col3\" class=\"col_heading level0 col3\" >min</th>\n",
       "      <th id=\"T_1cd8f_level0_col4\" class=\"col_heading level0 col4\" >25%</th>\n",
       "      <th id=\"T_1cd8f_level0_col5\" class=\"col_heading level0 col5\" >50%</th>\n",
       "      <th id=\"T_1cd8f_level0_col6\" class=\"col_heading level0 col6\" >75%</th>\n",
       "      <th id=\"T_1cd8f_level0_col7\" class=\"col_heading level0 col7\" >max</th>\n",
       "    </tr>\n",
       "    <tr>\n",
       "      <th class=\"index_name level0\" >Pclass</th>\n",
       "      <th class=\"blank col0\" >&nbsp;</th>\n",
       "      <th class=\"blank col1\" >&nbsp;</th>\n",
       "      <th class=\"blank col2\" >&nbsp;</th>\n",
       "      <th class=\"blank col3\" >&nbsp;</th>\n",
       "      <th class=\"blank col4\" >&nbsp;</th>\n",
       "      <th class=\"blank col5\" >&nbsp;</th>\n",
       "      <th class=\"blank col6\" >&nbsp;</th>\n",
       "      <th class=\"blank col7\" >&nbsp;</th>\n",
       "    </tr>\n",
       "  </thead>\n",
       "  <tbody>\n",
       "    <tr>\n",
       "      <th id=\"T_1cd8f_level0_row0\" class=\"row_heading level0 row0\" >1</th>\n",
       "      <td id=\"T_1cd8f_row0_col0\" class=\"data row0 col0\" >186.000000</td>\n",
       "      <td id=\"T_1cd8f_row0_col1\" class=\"data row0 col1\" >38.233441</td>\n",
       "      <td id=\"T_1cd8f_row0_col2\" class=\"data row0 col2\" >14.802856</td>\n",
       "      <td id=\"T_1cd8f_row0_col3\" class=\"data row0 col3\" >0.920000</td>\n",
       "      <td id=\"T_1cd8f_row0_col4\" class=\"data row0 col4\" >27.000000</td>\n",
       "      <td id=\"T_1cd8f_row0_col5\" class=\"data row0 col5\" >37.000000</td>\n",
       "      <td id=\"T_1cd8f_row0_col6\" class=\"data row0 col6\" >49.000000</td>\n",
       "      <td id=\"T_1cd8f_row0_col7\" class=\"data row0 col7\" >80.000000</td>\n",
       "    </tr>\n",
       "    <tr>\n",
       "      <th id=\"T_1cd8f_level0_row1\" class=\"row_heading level0 row1\" >2</th>\n",
       "      <td id=\"T_1cd8f_row1_col0\" class=\"data row1 col0\" >173.000000</td>\n",
       "      <td id=\"T_1cd8f_row1_col1\" class=\"data row1 col1\" >29.877630</td>\n",
       "      <td id=\"T_1cd8f_row1_col2\" class=\"data row1 col2\" >14.001077</td>\n",
       "      <td id=\"T_1cd8f_row1_col3\" class=\"data row1 col3\" >0.670000</td>\n",
       "      <td id=\"T_1cd8f_row1_col4\" class=\"data row1 col4\" >23.000000</td>\n",
       "      <td id=\"T_1cd8f_row1_col5\" class=\"data row1 col5\" >29.000000</td>\n",
       "      <td id=\"T_1cd8f_row1_col6\" class=\"data row1 col6\" >36.000000</td>\n",
       "      <td id=\"T_1cd8f_row1_col7\" class=\"data row1 col7\" >70.000000</td>\n",
       "    </tr>\n",
       "    <tr>\n",
       "      <th id=\"T_1cd8f_level0_row2\" class=\"row_heading level0 row2\" >3</th>\n",
       "      <td id=\"T_1cd8f_row2_col0\" class=\"data row2 col0\" >355.000000</td>\n",
       "      <td id=\"T_1cd8f_row2_col1\" class=\"data row2 col1\" >25.140620</td>\n",
       "      <td id=\"T_1cd8f_row2_col2\" class=\"data row2 col2\" >12.495398</td>\n",
       "      <td id=\"T_1cd8f_row2_col3\" class=\"data row2 col3\" >0.420000</td>\n",
       "      <td id=\"T_1cd8f_row2_col4\" class=\"data row2 col4\" >18.000000</td>\n",
       "      <td id=\"T_1cd8f_row2_col5\" class=\"data row2 col5\" >24.000000</td>\n",
       "      <td id=\"T_1cd8f_row2_col6\" class=\"data row2 col6\" >32.000000</td>\n",
       "      <td id=\"T_1cd8f_row2_col7\" class=\"data row2 col7\" >74.000000</td>\n",
       "    </tr>\n",
       "  </tbody>\n",
       "</table>\n"
      ],
      "text/plain": [
       "<pandas.io.formats.style.Styler at 0x7f0bb4f030d0>"
      ]
     },
     "execution_count": 20,
     "metadata": {},
     "output_type": "execute_result"
    }
   ],
   "source": [
    "print('Age grouped by Pclass:') \n",
    "train.groupby('Pclass')['Age'].describe().style.bar(\n",
    "     subset=['mean'], color = '#7BCC70')\\\n",
    "    .background_gradient(subset = ['std'], cmap = 'flare')\\\n",
    "    .background_gradient(subset = ['50%'], cmap = 'flare') "
   ]
  },
  {
   "cell_type": "code",
   "execution_count": 21,
   "id": "5cda47e6",
   "metadata": {
    "_kg_hide-input": true,
    "execution": {
     "iopub.execute_input": "2023-01-02T10:05:56.156418Z",
     "iopub.status.busy": "2023-01-02T10:05:56.156000Z",
     "iopub.status.idle": "2023-01-02T10:05:56.182145Z",
     "shell.execute_reply": "2023-01-02T10:05:56.181075Z"
    },
    "papermill": {
     "duration": 0.046363,
     "end_time": "2023-01-02T10:05:56.184409",
     "exception": false,
     "start_time": "2023-01-02T10:05:56.138046",
     "status": "completed"
    },
    "tags": []
   },
   "outputs": [
    {
     "name": "stdout",
     "output_type": "stream",
     "text": [
      "Age grouped by Sex:\n"
     ]
    },
    {
     "data": {
      "text/html": [
       "<style type=\"text/css\">\n",
       "#T_9959b_row0_col1 {\n",
       "  width: 10em;\n",
       "  background: linear-gradient(90deg, #7BCC70 90.9%, transparent 90.9%);\n",
       "}\n",
       "#T_9959b_row0_col2, #T_9959b_row0_col5 {\n",
       "  background-color: #edb081;\n",
       "  color: #000000;\n",
       "}\n",
       "#T_9959b_row1_col1 {\n",
       "  width: 10em;\n",
       "  background: linear-gradient(90deg, #7BCC70 100.0%, transparent 100.0%);\n",
       "}\n",
       "#T_9959b_row1_col2, #T_9959b_row1_col5 {\n",
       "  background-color: #4b2362;\n",
       "  color: #f1f1f1;\n",
       "}\n",
       "</style>\n",
       "<table id=\"T_9959b\">\n",
       "  <thead>\n",
       "    <tr>\n",
       "      <th class=\"blank level0\" >&nbsp;</th>\n",
       "      <th id=\"T_9959b_level0_col0\" class=\"col_heading level0 col0\" >count</th>\n",
       "      <th id=\"T_9959b_level0_col1\" class=\"col_heading level0 col1\" >mean</th>\n",
       "      <th id=\"T_9959b_level0_col2\" class=\"col_heading level0 col2\" >std</th>\n",
       "      <th id=\"T_9959b_level0_col3\" class=\"col_heading level0 col3\" >min</th>\n",
       "      <th id=\"T_9959b_level0_col4\" class=\"col_heading level0 col4\" >25%</th>\n",
       "      <th id=\"T_9959b_level0_col5\" class=\"col_heading level0 col5\" >50%</th>\n",
       "      <th id=\"T_9959b_level0_col6\" class=\"col_heading level0 col6\" >75%</th>\n",
       "      <th id=\"T_9959b_level0_col7\" class=\"col_heading level0 col7\" >max</th>\n",
       "    </tr>\n",
       "    <tr>\n",
       "      <th class=\"index_name level0\" >Sex</th>\n",
       "      <th class=\"blank col0\" >&nbsp;</th>\n",
       "      <th class=\"blank col1\" >&nbsp;</th>\n",
       "      <th class=\"blank col2\" >&nbsp;</th>\n",
       "      <th class=\"blank col3\" >&nbsp;</th>\n",
       "      <th class=\"blank col4\" >&nbsp;</th>\n",
       "      <th class=\"blank col5\" >&nbsp;</th>\n",
       "      <th class=\"blank col6\" >&nbsp;</th>\n",
       "      <th class=\"blank col7\" >&nbsp;</th>\n",
       "    </tr>\n",
       "  </thead>\n",
       "  <tbody>\n",
       "    <tr>\n",
       "      <th id=\"T_9959b_level0_row0\" class=\"row_heading level0 row0\" >female</th>\n",
       "      <td id=\"T_9959b_row0_col0\" class=\"data row0 col0\" >261.000000</td>\n",
       "      <td id=\"T_9959b_row0_col1\" class=\"data row0 col1\" >27.915709</td>\n",
       "      <td id=\"T_9959b_row0_col2\" class=\"data row0 col2\" >14.110146</td>\n",
       "      <td id=\"T_9959b_row0_col3\" class=\"data row0 col3\" >0.750000</td>\n",
       "      <td id=\"T_9959b_row0_col4\" class=\"data row0 col4\" >18.000000</td>\n",
       "      <td id=\"T_9959b_row0_col5\" class=\"data row0 col5\" >27.000000</td>\n",
       "      <td id=\"T_9959b_row0_col6\" class=\"data row0 col6\" >37.000000</td>\n",
       "      <td id=\"T_9959b_row0_col7\" class=\"data row0 col7\" >63.000000</td>\n",
       "    </tr>\n",
       "    <tr>\n",
       "      <th id=\"T_9959b_level0_row1\" class=\"row_heading level0 row1\" >male</th>\n",
       "      <td id=\"T_9959b_row1_col0\" class=\"data row1 col0\" >453.000000</td>\n",
       "      <td id=\"T_9959b_row1_col1\" class=\"data row1 col1\" >30.726645</td>\n",
       "      <td id=\"T_9959b_row1_col2\" class=\"data row1 col2\" >14.678201</td>\n",
       "      <td id=\"T_9959b_row1_col3\" class=\"data row1 col3\" >0.420000</td>\n",
       "      <td id=\"T_9959b_row1_col4\" class=\"data row1 col4\" >21.000000</td>\n",
       "      <td id=\"T_9959b_row1_col5\" class=\"data row1 col5\" >29.000000</td>\n",
       "      <td id=\"T_9959b_row1_col6\" class=\"data row1 col6\" >39.000000</td>\n",
       "      <td id=\"T_9959b_row1_col7\" class=\"data row1 col7\" >80.000000</td>\n",
       "    </tr>\n",
       "  </tbody>\n",
       "</table>\n"
      ],
      "text/plain": [
       "<pandas.io.formats.style.Styler at 0x7f0bb4d24f70>"
      ]
     },
     "execution_count": 21,
     "metadata": {},
     "output_type": "execute_result"
    }
   ],
   "source": [
    " print('Age grouped by Sex:') \n",
    "train.groupby('Sex')['Age'].describe().style.bar(\n",
    "     subset=['mean'], color = '#7BCC70')\\\n",
    "    .background_gradient(subset = ['std'], cmap = 'flare')\\\n",
    "    .background_gradient(subset = ['50%'], cmap = 'flare') "
   ]
  },
  {
   "cell_type": "code",
   "execution_count": 22,
   "id": "3bb950f7",
   "metadata": {
    "execution": {
     "iopub.execute_input": "2023-01-02T10:05:56.220776Z",
     "iopub.status.busy": "2023-01-02T10:05:56.220115Z",
     "iopub.status.idle": "2023-01-02T10:05:56.233537Z",
     "shell.execute_reply": "2023-01-02T10:05:56.232208Z"
    },
    "papermill": {
     "duration": 0.034542,
     "end_time": "2023-01-02T10:05:56.236227",
     "exception": false,
     "start_time": "2023-01-02T10:05:56.201685",
     "status": "completed"
    },
    "tags": []
   },
   "outputs": [
    {
     "name": "stdout",
     "output_type": "stream",
     "text": [
      "Utility data\n"
     ]
    },
    {
     "data": {
      "text/plain": [
       "Pclass  Sex   \n",
       "1       female    34.611765\n",
       "        male      41.281386\n",
       "2       female    28.722973\n",
       "        male      30.740707\n",
       "3       female    21.750000\n",
       "        male      26.507589\n",
       "Name: Age, dtype: float64"
      ]
     },
     "execution_count": 22,
     "metadata": {},
     "output_type": "execute_result"
    }
   ],
   "source": [
    "# utility \n",
    "data = train.groupby(['Pclass','Sex'])['Age'].mean()\n",
    "print(\"Utility data\")\n",
    "data"
   ]
  },
  {
   "cell_type": "code",
   "execution_count": 23,
   "id": "4841f5e2",
   "metadata": {
    "execution": {
     "iopub.execute_input": "2023-01-02T10:05:56.272985Z",
     "iopub.status.busy": "2023-01-02T10:05:56.272591Z",
     "iopub.status.idle": "2023-01-02T10:05:56.326542Z",
     "shell.execute_reply": "2023-01-02T10:05:56.325672Z"
    },
    "papermill": {
     "duration": 0.075009,
     "end_time": "2023-01-02T10:05:56.328919",
     "exception": false,
     "start_time": "2023-01-02T10:05:56.253910",
     "status": "completed"
    },
    "tags": []
   },
   "outputs": [],
   "source": [
    "# function to fill null age values\n",
    "def fill_age(pclass, sex, age):\n",
    "    '''\n",
    "    takes in the pclass, sex and age \n",
    "    if the age is null, then extracts the age from 'data'and returns the corrosponding age\n",
    "    else returns the original age\n",
    "    '''\n",
    "    if np.isnan(age): \n",
    "        return data.loc[(pclass, sex)]\n",
    "    else: \n",
    "        return age\n",
    "    \n",
    "# filling the missing values in both datasets\n",
    "train['Age'] = train.apply(lambda x: fill_age(x['Pclass'], x['Sex'], x['Age']), axis=1)\n",
    "test['Age'] = test.apply(lambda x: fill_age(x['Pclass'], x['Sex'], x['Age']), axis=1)            "
   ]
  },
  {
   "cell_type": "markdown",
   "id": "cbba6d88",
   "metadata": {
    "papermill": {
     "duration": 0.017307,
     "end_time": "2023-01-02T10:05:56.363669",
     "exception": false,
     "start_time": "2023-01-02T10:05:56.346362",
     "status": "completed"
    },
    "tags": []
   },
   "source": [
    "## 2.2 Fare (Test only)"
   ]
  },
  {
   "cell_type": "code",
   "execution_count": 24,
   "id": "15e73dc4",
   "metadata": {
    "execution": {
     "iopub.execute_input": "2023-01-02T10:05:56.400473Z",
     "iopub.status.busy": "2023-01-02T10:05:56.399864Z",
     "iopub.status.idle": "2023-01-02T10:05:56.414820Z",
     "shell.execute_reply": "2023-01-02T10:05:56.413932Z"
    },
    "papermill": {
     "duration": 0.035848,
     "end_time": "2023-01-02T10:05:56.417047",
     "exception": false,
     "start_time": "2023-01-02T10:05:56.381199",
     "status": "completed"
    },
    "tags": []
   },
   "outputs": [],
   "source": [
    "# function to fill missing fare in test dataset\n",
    "def fill_fare(fare):\n",
    "    '''\n",
    "    takes in fare if null\n",
    "    returns the most common value\n",
    "    '''\n",
    "  \n",
    "    if np.isnan(fare):\n",
    "        return round(test['Fare']).value_counts().max()\n",
    "    else:\n",
    "        return fare\n",
    "    \n",
    "test['Fare'] = test.apply(lambda x: fill_fare(x['Fare']), axis=1)  "
   ]
  },
  {
   "cell_type": "markdown",
   "id": "3306a996",
   "metadata": {
    "papermill": {
     "duration": 0.016909,
     "end_time": "2023-01-02T10:05:56.451907",
     "exception": false,
     "start_time": "2023-01-02T10:05:56.434998",
     "status": "completed"
    },
    "tags": []
   },
   "source": [
    "## 2.3 Embarked (Train only)"
   ]
  },
  {
   "cell_type": "code",
   "execution_count": 25,
   "id": "e40aefe0",
   "metadata": {
    "execution": {
     "iopub.execute_input": "2023-01-02T10:05:56.488661Z",
     "iopub.status.busy": "2023-01-02T10:05:56.487787Z",
     "iopub.status.idle": "2023-01-02T10:05:56.493933Z",
     "shell.execute_reply": "2023-01-02T10:05:56.492714Z"
    },
    "papermill": {
     "duration": 0.026668,
     "end_time": "2023-01-02T10:05:56.495989",
     "exception": false,
     "start_time": "2023-01-02T10:05:56.469321",
     "status": "completed"
    },
    "tags": []
   },
   "outputs": [],
   "source": [
    "# storing the most common 'Embarked' value\n",
    "common_value = train['Embarked'].value_counts().idxmax()"
   ]
  },
  {
   "cell_type": "code",
   "execution_count": 26,
   "id": "b41ec869",
   "metadata": {
    "execution": {
     "iopub.execute_input": "2023-01-02T10:05:56.533017Z",
     "iopub.status.busy": "2023-01-02T10:05:56.532326Z",
     "iopub.status.idle": "2023-01-02T10:05:56.537831Z",
     "shell.execute_reply": "2023-01-02T10:05:56.537080Z"
    },
    "papermill": {
     "duration": 0.026454,
     "end_time": "2023-01-02T10:05:56.539861",
     "exception": false,
     "start_time": "2023-01-02T10:05:56.513407",
     "status": "completed"
    },
    "tags": []
   },
   "outputs": [],
   "source": [
    "# filling all null values\n",
    "train['Embarked'] =train['Embarked'].fillna(common_value)"
   ]
  },
  {
   "cell_type": "code",
   "execution_count": 27,
   "id": "f4f42593",
   "metadata": {
    "execution": {
     "iopub.execute_input": "2023-01-02T10:05:56.575907Z",
     "iopub.status.busy": "2023-01-02T10:05:56.575233Z",
     "iopub.status.idle": "2023-01-02T10:05:56.582420Z",
     "shell.execute_reply": "2023-01-02T10:05:56.581599Z"
    },
    "papermill": {
     "duration": 0.027578,
     "end_time": "2023-01-02T10:05:56.584439",
     "exception": false,
     "start_time": "2023-01-02T10:05:56.556861",
     "status": "completed"
    },
    "tags": []
   },
   "outputs": [
    {
     "data": {
      "text/plain": [
       "0"
      ]
     },
     "execution_count": 27,
     "metadata": {},
     "output_type": "execute_result"
    }
   ],
   "source": [
    "# check\n",
    "train['Embarked'].isnull().sum()"
   ]
  },
  {
   "cell_type": "markdown",
   "id": "22df5737",
   "metadata": {
    "papermill": {
     "duration": 0.016708,
     "end_time": "2023-01-02T10:05:56.618604",
     "exception": false,
     "start_time": "2023-01-02T10:05:56.601896",
     "status": "completed"
    },
    "tags": []
   },
   "source": [
    "## 2.4 Cabin (Train & Test)\n",
    "\n",
    "Since 80% of the 'Cabin' data is missing in both train and test datasets, dropping the coulmn altogether in both datasets. The column is dropped in section 3.2."
   ]
  },
  {
   "cell_type": "markdown",
   "id": "a4e7803e",
   "metadata": {
    "papermill": {
     "duration": 0.016751,
     "end_time": "2023-01-02T10:05:56.652362",
     "exception": false,
     "start_time": "2023-01-02T10:05:56.635611",
     "status": "completed"
    },
    "tags": []
   },
   "source": [
    "## 3 Data Preprocessing\n",
    "* Feature processing\n",
    "* Dropping columns that are not useful\n",
    "* Creating Dummy Variables\n",
    "* Scaling \n",
    "* Data Split"
   ]
  },
  {
   "cell_type": "markdown",
   "id": "400ba0d1",
   "metadata": {
    "papermill": {
     "duration": 0.01696,
     "end_time": "2023-01-02T10:05:56.686326",
     "exception": false,
     "start_time": "2023-01-02T10:05:56.669366",
     "status": "completed"
    },
    "tags": []
   },
   "source": [
    "## 3.1 Extracting titles from 'Name' \n",
    "We cannot use the whole name as there are a lot of unique names. But all the names have a title that is associated with the person. We can extract the titles and convert them into dummies.\n"
   ]
  },
  {
   "cell_type": "code",
   "execution_count": 28,
   "id": "3efaeca1",
   "metadata": {
    "execution": {
     "iopub.execute_input": "2023-01-02T10:05:56.723917Z",
     "iopub.status.busy": "2023-01-02T10:05:56.723307Z",
     "iopub.status.idle": "2023-01-02T10:05:56.728026Z",
     "shell.execute_reply": "2023-01-02T10:05:56.727232Z"
    },
    "papermill": {
     "duration": 0.025545,
     "end_time": "2023-01-02T10:05:56.730033",
     "exception": false,
     "start_time": "2023-01-02T10:05:56.704488",
     "status": "completed"
    },
    "tags": []
   },
   "outputs": [],
   "source": [
    "# storing the most common titles \n",
    "titles = ['Mr', 'Miss', 'Mrs', 'Master', 'Other', 'Mlle', 'Ms', 'Mme']"
   ]
  },
  {
   "cell_type": "code",
   "execution_count": 29,
   "id": "2770349a",
   "metadata": {
    "execution": {
     "iopub.execute_input": "2023-01-02T10:05:56.766214Z",
     "iopub.status.busy": "2023-01-02T10:05:56.765524Z",
     "iopub.status.idle": "2023-01-02T10:05:56.771843Z",
     "shell.execute_reply": "2023-01-02T10:05:56.770801Z"
    },
    "papermill": {
     "duration": 0.027056,
     "end_time": "2023-01-02T10:05:56.773964",
     "exception": false,
     "start_time": "2023-01-02T10:05:56.746908",
     "status": "completed"
    },
    "tags": []
   },
   "outputs": [],
   "source": [
    "# function to extract the tile \n",
    "def extract_title(name):\n",
    "    '''\n",
    "    takes in the name feature\n",
    "    splits the name based on space and creates a list \n",
    "    stores in the 2nd item (title) in the variable 'title'\n",
    "    \n",
    "    if the title is not among the common titles, returns 'Other'\n",
    "    else returns the title \n",
    "    '''\n",
    "\n",
    "    title = name.split('.')[0].split(' ')[-1]\n",
    "    \n",
    "    if title not in titles:\n",
    "        return titles[4]\n",
    "    else:\n",
    "        return title\n"
   ]
  },
  {
   "cell_type": "code",
   "execution_count": 30,
   "id": "7577d0cf",
   "metadata": {
    "execution": {
     "iopub.execute_input": "2023-01-02T10:05:56.809369Z",
     "iopub.status.busy": "2023-01-02T10:05:56.808670Z",
     "iopub.status.idle": "2023-01-02T10:05:56.832249Z",
     "shell.execute_reply": "2023-01-02T10:05:56.831340Z"
    },
    "papermill": {
     "duration": 0.043764,
     "end_time": "2023-01-02T10:05:56.834452",
     "exception": false,
     "start_time": "2023-01-02T10:05:56.790688",
     "status": "completed"
    },
    "tags": []
   },
   "outputs": [],
   "source": [
    "# extracting the title in a different coulmn\n",
    "train['Title'] = train.apply(lambda x: extract_title(x['Name']), axis=1)\n",
    "test['Title'] = test.apply(lambda x: extract_title(x['Name']), axis=1)  "
   ]
  },
  {
   "cell_type": "code",
   "execution_count": 31,
   "id": "1378a806",
   "metadata": {
    "execution": {
     "iopub.execute_input": "2023-01-02T10:05:56.870153Z",
     "iopub.status.busy": "2023-01-02T10:05:56.869775Z",
     "iopub.status.idle": "2023-01-02T10:05:56.878612Z",
     "shell.execute_reply": "2023-01-02T10:05:56.877390Z"
    },
    "papermill": {
     "duration": 0.029061,
     "end_time": "2023-01-02T10:05:56.880672",
     "exception": false,
     "start_time": "2023-01-02T10:05:56.851611",
     "status": "completed"
    },
    "tags": []
   },
   "outputs": [],
   "source": [
    "# replacing \n",
    "train['Title'] = train['Title'].replace('Mlle', 'Miss')\n",
    "train['Title'] = train['Title'].replace('Ms', 'Miss')\n",
    "train['Title'] = train['Title'].replace('Mme', 'Mrs')\n",
    "\n",
    "# replacing \n",
    "test['Title'] = test['Title'].replace('Ms', 'Miss')"
   ]
  },
  {
   "cell_type": "markdown",
   "id": "bf14a125",
   "metadata": {
    "papermill": {
     "duration": 0.017564,
     "end_time": "2023-01-02T10:05:56.915413",
     "exception": false,
     "start_time": "2023-01-02T10:05:56.897849",
     "status": "completed"
    },
    "tags": []
   },
   "source": [
    "## 3.2 Dropping Unhelpful Data"
   ]
  },
  {
   "cell_type": "code",
   "execution_count": 32,
   "id": "3c72fe65",
   "metadata": {
    "execution": {
     "iopub.execute_input": "2023-01-02T10:05:56.951085Z",
     "iopub.status.busy": "2023-01-02T10:05:56.950681Z",
     "iopub.status.idle": "2023-01-02T10:05:56.959085Z",
     "shell.execute_reply": "2023-01-02T10:05:56.958237Z"
    },
    "papermill": {
     "duration": 0.028945,
     "end_time": "2023-01-02T10:05:56.961226",
     "exception": false,
     "start_time": "2023-01-02T10:05:56.932281",
     "status": "completed"
    },
    "tags": []
   },
   "outputs": [],
   "source": [
    "# dropping columns that are not helpful\n",
    "train_df = train.drop(['Cabin', 'Name', 'PassengerId', 'Ticket'], axis = 1)\n",
    "test_df = test.drop(['Cabin', 'Name','Ticket'], axis = 1)"
   ]
  },
  {
   "cell_type": "code",
   "execution_count": 33,
   "id": "9692f39f",
   "metadata": {
    "execution": {
     "iopub.execute_input": "2023-01-02T10:05:56.997065Z",
     "iopub.status.busy": "2023-01-02T10:05:56.996347Z",
     "iopub.status.idle": "2023-01-02T10:05:57.006533Z",
     "shell.execute_reply": "2023-01-02T10:05:57.005793Z"
    },
    "papermill": {
     "duration": 0.030315,
     "end_time": "2023-01-02T10:05:57.008454",
     "exception": false,
     "start_time": "2023-01-02T10:05:56.978139",
     "status": "completed"
    },
    "tags": []
   },
   "outputs": [
    {
     "data": {
      "text/html": [
       "<div>\n",
       "<style scoped>\n",
       "    .dataframe tbody tr th:only-of-type {\n",
       "        vertical-align: middle;\n",
       "    }\n",
       "\n",
       "    .dataframe tbody tr th {\n",
       "        vertical-align: top;\n",
       "    }\n",
       "\n",
       "    .dataframe thead th {\n",
       "        text-align: right;\n",
       "    }\n",
       "</style>\n",
       "<table border=\"1\" class=\"dataframe\">\n",
       "  <thead>\n",
       "    <tr style=\"text-align: right;\">\n",
       "      <th></th>\n",
       "      <th>Survived</th>\n",
       "      <th>Pclass</th>\n",
       "      <th>Sex</th>\n",
       "      <th>Age</th>\n",
       "      <th>SibSp</th>\n",
       "      <th>Parch</th>\n",
       "      <th>Fare</th>\n",
       "      <th>Embarked</th>\n",
       "      <th>Title</th>\n",
       "    </tr>\n",
       "  </thead>\n",
       "  <tbody>\n",
       "  </tbody>\n",
       "</table>\n",
       "</div>"
      ],
      "text/plain": [
       "Empty DataFrame\n",
       "Columns: [Survived, Pclass, Sex, Age, SibSp, Parch, Fare, Embarked, Title]\n",
       "Index: []"
      ]
     },
     "execution_count": 33,
     "metadata": {},
     "output_type": "execute_result"
    }
   ],
   "source": [
    "train_df.head(0)"
   ]
  },
  {
   "cell_type": "code",
   "execution_count": 34,
   "id": "cccd6a1d",
   "metadata": {
    "execution": {
     "iopub.execute_input": "2023-01-02T10:05:57.045240Z",
     "iopub.status.busy": "2023-01-02T10:05:57.044605Z",
     "iopub.status.idle": "2023-01-02T10:05:57.053666Z",
     "shell.execute_reply": "2023-01-02T10:05:57.052918Z"
    },
    "papermill": {
     "duration": 0.029661,
     "end_time": "2023-01-02T10:05:57.055597",
     "exception": false,
     "start_time": "2023-01-02T10:05:57.025936",
     "status": "completed"
    },
    "tags": []
   },
   "outputs": [
    {
     "data": {
      "text/html": [
       "<div>\n",
       "<style scoped>\n",
       "    .dataframe tbody tr th:only-of-type {\n",
       "        vertical-align: middle;\n",
       "    }\n",
       "\n",
       "    .dataframe tbody tr th {\n",
       "        vertical-align: top;\n",
       "    }\n",
       "\n",
       "    .dataframe thead th {\n",
       "        text-align: right;\n",
       "    }\n",
       "</style>\n",
       "<table border=\"1\" class=\"dataframe\">\n",
       "  <thead>\n",
       "    <tr style=\"text-align: right;\">\n",
       "      <th></th>\n",
       "      <th>PassengerId</th>\n",
       "      <th>Pclass</th>\n",
       "      <th>Sex</th>\n",
       "      <th>Age</th>\n",
       "      <th>SibSp</th>\n",
       "      <th>Parch</th>\n",
       "      <th>Fare</th>\n",
       "      <th>Embarked</th>\n",
       "      <th>Survived</th>\n",
       "      <th>Title</th>\n",
       "    </tr>\n",
       "  </thead>\n",
       "  <tbody>\n",
       "  </tbody>\n",
       "</table>\n",
       "</div>"
      ],
      "text/plain": [
       "Empty DataFrame\n",
       "Columns: [PassengerId, Pclass, Sex, Age, SibSp, Parch, Fare, Embarked, Survived, Title]\n",
       "Index: []"
      ]
     },
     "execution_count": 34,
     "metadata": {},
     "output_type": "execute_result"
    }
   ],
   "source": [
    "test_df.head(0)"
   ]
  },
  {
   "cell_type": "markdown",
   "id": "4374e37d",
   "metadata": {
    "papermill": {
     "duration": 0.019407,
     "end_time": "2023-01-02T10:05:57.092351",
     "exception": false,
     "start_time": "2023-01-02T10:05:57.072944",
     "status": "completed"
    },
    "tags": []
   },
   "source": [
    "## 3.3 Dummy Variables"
   ]
  },
  {
   "cell_type": "code",
   "execution_count": 35,
   "id": "94e2168f",
   "metadata": {
    "_kg_hide-input": true,
    "execution": {
     "iopub.execute_input": "2023-01-02T10:05:57.129214Z",
     "iopub.status.busy": "2023-01-02T10:05:57.128567Z",
     "iopub.status.idle": "2023-01-02T10:05:57.154794Z",
     "shell.execute_reply": "2023-01-02T10:05:57.153321Z"
    },
    "papermill": {
     "duration": 0.047586,
     "end_time": "2023-01-02T10:05:57.157385",
     "exception": false,
     "start_time": "2023-01-02T10:05:57.109799",
     "status": "completed"
    },
    "tags": []
   },
   "outputs": [
    {
     "name": "stdout",
     "output_type": "stream",
     "text": [
      "Train Data after dummy variables:\n"
     ]
    },
    {
     "data": {
      "text/html": [
       "<div>\n",
       "<style scoped>\n",
       "    .dataframe tbody tr th:only-of-type {\n",
       "        vertical-align: middle;\n",
       "    }\n",
       "\n",
       "    .dataframe tbody tr th {\n",
       "        vertical-align: top;\n",
       "    }\n",
       "\n",
       "    .dataframe thead th {\n",
       "        text-align: right;\n",
       "    }\n",
       "</style>\n",
       "<table border=\"1\" class=\"dataframe\">\n",
       "  <thead>\n",
       "    <tr style=\"text-align: right;\">\n",
       "      <th></th>\n",
       "      <th>Survived</th>\n",
       "      <th>Pclass</th>\n",
       "      <th>Age</th>\n",
       "      <th>SibSp</th>\n",
       "      <th>Parch</th>\n",
       "      <th>Fare</th>\n",
       "      <th>Sex_male</th>\n",
       "      <th>Embarked_Q</th>\n",
       "      <th>Embarked_S</th>\n",
       "      <th>Title_Miss</th>\n",
       "      <th>Title_Mr</th>\n",
       "      <th>Title_Mrs</th>\n",
       "      <th>Title_Other</th>\n",
       "    </tr>\n",
       "  </thead>\n",
       "  <tbody>\n",
       "    <tr>\n",
       "      <th>0</th>\n",
       "      <td>0</td>\n",
       "      <td>3</td>\n",
       "      <td>22.0</td>\n",
       "      <td>1</td>\n",
       "      <td>0</td>\n",
       "      <td>7.2500</td>\n",
       "      <td>1</td>\n",
       "      <td>0</td>\n",
       "      <td>1</td>\n",
       "      <td>0</td>\n",
       "      <td>1</td>\n",
       "      <td>0</td>\n",
       "      <td>0</td>\n",
       "    </tr>\n",
       "    <tr>\n",
       "      <th>1</th>\n",
       "      <td>1</td>\n",
       "      <td>1</td>\n",
       "      <td>38.0</td>\n",
       "      <td>1</td>\n",
       "      <td>0</td>\n",
       "      <td>71.2833</td>\n",
       "      <td>0</td>\n",
       "      <td>0</td>\n",
       "      <td>0</td>\n",
       "      <td>0</td>\n",
       "      <td>0</td>\n",
       "      <td>1</td>\n",
       "      <td>0</td>\n",
       "    </tr>\n",
       "    <tr>\n",
       "      <th>2</th>\n",
       "      <td>1</td>\n",
       "      <td>3</td>\n",
       "      <td>26.0</td>\n",
       "      <td>0</td>\n",
       "      <td>0</td>\n",
       "      <td>7.9250</td>\n",
       "      <td>0</td>\n",
       "      <td>0</td>\n",
       "      <td>1</td>\n",
       "      <td>1</td>\n",
       "      <td>0</td>\n",
       "      <td>0</td>\n",
       "      <td>0</td>\n",
       "    </tr>\n",
       "    <tr>\n",
       "      <th>3</th>\n",
       "      <td>1</td>\n",
       "      <td>1</td>\n",
       "      <td>35.0</td>\n",
       "      <td>1</td>\n",
       "      <td>0</td>\n",
       "      <td>53.1000</td>\n",
       "      <td>0</td>\n",
       "      <td>0</td>\n",
       "      <td>1</td>\n",
       "      <td>0</td>\n",
       "      <td>0</td>\n",
       "      <td>1</td>\n",
       "      <td>0</td>\n",
       "    </tr>\n",
       "    <tr>\n",
       "      <th>4</th>\n",
       "      <td>0</td>\n",
       "      <td>3</td>\n",
       "      <td>35.0</td>\n",
       "      <td>0</td>\n",
       "      <td>0</td>\n",
       "      <td>8.0500</td>\n",
       "      <td>1</td>\n",
       "      <td>0</td>\n",
       "      <td>1</td>\n",
       "      <td>0</td>\n",
       "      <td>1</td>\n",
       "      <td>0</td>\n",
       "      <td>0</td>\n",
       "    </tr>\n",
       "  </tbody>\n",
       "</table>\n",
       "</div>"
      ],
      "text/plain": [
       "   Survived  Pclass   Age  SibSp  Parch     Fare  Sex_male  Embarked_Q  \\\n",
       "0         0       3  22.0      1      0   7.2500         1           0   \n",
       "1         1       1  38.0      1      0  71.2833         0           0   \n",
       "2         1       3  26.0      0      0   7.9250         0           0   \n",
       "3         1       1  35.0      1      0  53.1000         0           0   \n",
       "4         0       3  35.0      0      0   8.0500         1           0   \n",
       "\n",
       "   Embarked_S  Title_Miss  Title_Mr  Title_Mrs  Title_Other  \n",
       "0           1           0         1          0            0  \n",
       "1           0           0         0          1            0  \n",
       "2           1           1         0          0            0  \n",
       "3           1           0         0          1            0  \n",
       "4           1           0         1          0            0  "
      ]
     },
     "execution_count": 35,
     "metadata": {},
     "output_type": "execute_result"
    }
   ],
   "source": [
    "# converting the values into dummies\n",
    "dummies = pd.get_dummies(train_df[['Sex', 'Embarked', 'Title']], drop_first = True)\n",
    "\n",
    "# adding these to train_df\n",
    "train_df = pd.concat([train_df, dummies], axis = 1)\n",
    "\n",
    "# dropping the OG columns\n",
    "train_df = train_df.drop(['Sex', 'Embarked', 'Title'], axis = 1)\n",
    "\n",
    "print('Train Data after dummy variables:')\n",
    "train_df.head()"
   ]
  },
  {
   "cell_type": "code",
   "execution_count": 36,
   "id": "baed7d85",
   "metadata": {
    "_kg_hide-input": true,
    "execution": {
     "iopub.execute_input": "2023-01-02T10:05:57.195305Z",
     "iopub.status.busy": "2023-01-02T10:05:57.194719Z",
     "iopub.status.idle": "2023-01-02T10:05:57.218120Z",
     "shell.execute_reply": "2023-01-02T10:05:57.216477Z"
    },
    "papermill": {
     "duration": 0.045734,
     "end_time": "2023-01-02T10:05:57.221424",
     "exception": false,
     "start_time": "2023-01-02T10:05:57.175690",
     "status": "completed"
    },
    "tags": []
   },
   "outputs": [
    {
     "name": "stdout",
     "output_type": "stream",
     "text": [
      "Train Data after dummy variables:\n"
     ]
    },
    {
     "data": {
      "text/html": [
       "<div>\n",
       "<style scoped>\n",
       "    .dataframe tbody tr th:only-of-type {\n",
       "        vertical-align: middle;\n",
       "    }\n",
       "\n",
       "    .dataframe tbody tr th {\n",
       "        vertical-align: top;\n",
       "    }\n",
       "\n",
       "    .dataframe thead th {\n",
       "        text-align: right;\n",
       "    }\n",
       "</style>\n",
       "<table border=\"1\" class=\"dataframe\">\n",
       "  <thead>\n",
       "    <tr style=\"text-align: right;\">\n",
       "      <th></th>\n",
       "      <th>PassengerId</th>\n",
       "      <th>Pclass</th>\n",
       "      <th>Age</th>\n",
       "      <th>SibSp</th>\n",
       "      <th>Parch</th>\n",
       "      <th>Fare</th>\n",
       "      <th>Survived</th>\n",
       "      <th>Sex_male</th>\n",
       "      <th>Embarked_Q</th>\n",
       "      <th>Embarked_S</th>\n",
       "      <th>Title_Miss</th>\n",
       "      <th>Title_Mr</th>\n",
       "      <th>Title_Mrs</th>\n",
       "      <th>Title_Other</th>\n",
       "    </tr>\n",
       "  </thead>\n",
       "  <tbody>\n",
       "    <tr>\n",
       "      <th>0</th>\n",
       "      <td>892</td>\n",
       "      <td>3</td>\n",
       "      <td>34.5</td>\n",
       "      <td>0</td>\n",
       "      <td>0</td>\n",
       "      <td>7.8292</td>\n",
       "      <td>0</td>\n",
       "      <td>1</td>\n",
       "      <td>1</td>\n",
       "      <td>0</td>\n",
       "      <td>0</td>\n",
       "      <td>1</td>\n",
       "      <td>0</td>\n",
       "      <td>0</td>\n",
       "    </tr>\n",
       "  </tbody>\n",
       "</table>\n",
       "</div>"
      ],
      "text/plain": [
       "   PassengerId  Pclass   Age  SibSp  Parch    Fare  Survived  Sex_male  \\\n",
       "0          892       3  34.5      0      0  7.8292         0         1   \n",
       "\n",
       "   Embarked_Q  Embarked_S  Title_Miss  Title_Mr  Title_Mrs  Title_Other  \n",
       "0           1           0           0         1          0            0  "
      ]
     },
     "execution_count": 36,
     "metadata": {},
     "output_type": "execute_result"
    }
   ],
   "source": [
    "# converting the values into dummies\n",
    "dummies = pd.get_dummies(test_df[['Sex', 'Embarked', 'Title']], drop_first = True)\n",
    "\n",
    "# adding these to train_df\n",
    "test_df = pd.concat([test_df, dummies], axis = 1)\n",
    "\n",
    "# dropping the OG columns\n",
    "test_df = test_df.drop(['Sex', 'Embarked', 'Title'], axis = 1)\n",
    "\n",
    "print('Train Data after dummy variables:')\n",
    "test_df.head(1)"
   ]
  },
  {
   "cell_type": "markdown",
   "id": "7ec8319b",
   "metadata": {
    "papermill": {
     "duration": 0.017812,
     "end_time": "2023-01-02T10:05:57.259668",
     "exception": false,
     "start_time": "2023-01-02T10:05:57.241856",
     "status": "completed"
    },
    "tags": []
   },
   "source": [
    "## 3.4 Labels"
   ]
  },
  {
   "cell_type": "code",
   "execution_count": 37,
   "id": "9d09b694",
   "metadata": {
    "execution": {
     "iopub.execute_input": "2023-01-02T10:05:57.298071Z",
     "iopub.status.busy": "2023-01-02T10:05:57.297359Z",
     "iopub.status.idle": "2023-01-02T10:05:57.304047Z",
     "shell.execute_reply": "2023-01-02T10:05:57.303310Z"
    },
    "papermill": {
     "duration": 0.028293,
     "end_time": "2023-01-02T10:05:57.305938",
     "exception": false,
     "start_time": "2023-01-02T10:05:57.277645",
     "status": "completed"
    },
    "tags": []
   },
   "outputs": [],
   "source": [
    "# define the labels\n",
    "X_train = train_df.drop('Survived', axis = 1)\n",
    "y_train = train_df['Survived']\n",
    "\n",
    "X_test = test_df.drop(['PassengerId', 'Survived'], axis = 1)\n",
    "y_test = test_df['Survived']"
   ]
  },
  {
   "cell_type": "markdown",
   "id": "2e2166ad",
   "metadata": {
    "papermill": {
     "duration": 0.017494,
     "end_time": "2023-01-02T10:05:57.341080",
     "exception": false,
     "start_time": "2023-01-02T10:05:57.323586",
     "status": "completed"
    },
    "tags": []
   },
   "source": [
    "## 3.5 Data Split"
   ]
  },
  {
   "cell_type": "code",
   "execution_count": 38,
   "id": "69778646",
   "metadata": {
    "execution": {
     "iopub.execute_input": "2023-01-02T10:05:57.379322Z",
     "iopub.status.busy": "2023-01-02T10:05:57.378575Z",
     "iopub.status.idle": "2023-01-02T10:05:57.386027Z",
     "shell.execute_reply": "2023-01-02T10:05:57.385054Z"
    },
    "papermill": {
     "duration": 0.02931,
     "end_time": "2023-01-02T10:05:57.388402",
     "exception": false,
     "start_time": "2023-01-02T10:05:57.359092",
     "status": "completed"
    },
    "tags": []
   },
   "outputs": [],
   "source": [
    "from sklearn.model_selection import train_test_split\n",
    "\n",
    "X_train, X_val, y_train, y_val = train_test_split(X_train, y_train, test_size = 0.2, random_state = seed_value)"
   ]
  },
  {
   "cell_type": "code",
   "execution_count": 39,
   "id": "3249fb3a",
   "metadata": {
    "_kg_hide-input": true,
    "execution": {
     "iopub.execute_input": "2023-01-02T10:05:57.426548Z",
     "iopub.status.busy": "2023-01-02T10:05:57.426127Z",
     "iopub.status.idle": "2023-01-02T10:05:57.430657Z",
     "shell.execute_reply": "2023-01-02T10:05:57.429887Z"
    },
    "papermill": {
     "duration": 0.026525,
     "end_time": "2023-01-02T10:05:57.432750",
     "exception": false,
     "start_time": "2023-01-02T10:05:57.406225",
     "status": "completed"
    },
    "tags": []
   },
   "outputs": [],
   "source": [
    "# utility\n",
    "train_columns = X_train.columns"
   ]
  },
  {
   "cell_type": "markdown",
   "id": "63ba3a00",
   "metadata": {
    "papermill": {
     "duration": 0.018129,
     "end_time": "2023-01-02T10:05:57.468717",
     "exception": false,
     "start_time": "2023-01-02T10:05:57.450588",
     "status": "completed"
    },
    "tags": []
   },
   "source": [
    "## 3.6 Scaling"
   ]
  },
  {
   "cell_type": "code",
   "execution_count": 40,
   "id": "2ddc1ac6",
   "metadata": {
    "execution": {
     "iopub.execute_input": "2023-01-02T10:05:57.508892Z",
     "iopub.status.busy": "2023-01-02T10:05:57.508137Z",
     "iopub.status.idle": "2023-01-02T10:05:57.523470Z",
     "shell.execute_reply": "2023-01-02T10:05:57.522705Z"
    },
    "papermill": {
     "duration": 0.038647,
     "end_time": "2023-01-02T10:05:57.525629",
     "exception": false,
     "start_time": "2023-01-02T10:05:57.486982",
     "status": "completed"
    },
    "tags": []
   },
   "outputs": [],
   "source": [
    "# import \n",
    "from sklearn.preprocessing import MinMaxScaler\n",
    "\n",
    "# creating an instance of the scaler\n",
    "scaler = MinMaxScaler()\n",
    "\n",
    "# using .fit_transform() on the train and val data\n",
    "X_train = scaler.fit_transform(X_train)\n",
    "X_val = scaler.fit_transform(X_val)\n",
    "\n",
    "# using only fit for the test data for no leaks\n",
    "X_test = scaler.transform(X_test)"
   ]
  },
  {
   "cell_type": "markdown",
   "id": "e11b0ff2",
   "metadata": {
    "papermill": {
     "duration": 0.017957,
     "end_time": "2023-01-02T10:05:57.561649",
     "exception": false,
     "start_time": "2023-01-02T10:05:57.543692",
     "status": "completed"
    },
    "tags": []
   },
   "source": [
    "## 4 - Model\n",
    "\n",
    "* Creating a Random Forest Classifier\n",
    "* Get the best estimator via GridSearch\n",
    "* Re-train with the best estimator\n",
    "* Cross Validation\n",
    "* Feature Importance\n",
    "* Submission"
   ]
  },
  {
   "cell_type": "markdown",
   "id": "79f8a8ae",
   "metadata": {
    "papermill": {
     "duration": 0.017445,
     "end_time": "2023-01-02T10:05:57.596980",
     "exception": false,
     "start_time": "2023-01-02T10:05:57.579535",
     "status": "completed"
    },
    "tags": []
   },
   "source": [
    "## 4.1 Model "
   ]
  },
  {
   "cell_type": "code",
   "execution_count": 41,
   "id": "aced6c21",
   "metadata": {
    "execution": {
     "iopub.execute_input": "2023-01-02T10:05:57.634664Z",
     "iopub.status.busy": "2023-01-02T10:05:57.633933Z",
     "iopub.status.idle": "2023-01-02T10:05:58.004739Z",
     "shell.execute_reply": "2023-01-02T10:05:58.003651Z"
    },
    "papermill": {
     "duration": 0.39229,
     "end_time": "2023-01-02T10:05:58.007084",
     "exception": false,
     "start_time": "2023-01-02T10:05:57.614794",
     "status": "completed"
    },
    "tags": []
   },
   "outputs": [
    {
     "data": {
      "text/html": [
       "<style>#sk-container-id-1 {color: black;background-color: white;}#sk-container-id-1 pre{padding: 0;}#sk-container-id-1 div.sk-toggleable {background-color: white;}#sk-container-id-1 label.sk-toggleable__label {cursor: pointer;display: block;width: 100%;margin-bottom: 0;padding: 0.3em;box-sizing: border-box;text-align: center;}#sk-container-id-1 label.sk-toggleable__label-arrow:before {content: \"▸\";float: left;margin-right: 0.25em;color: #696969;}#sk-container-id-1 label.sk-toggleable__label-arrow:hover:before {color: black;}#sk-container-id-1 div.sk-estimator:hover label.sk-toggleable__label-arrow:before {color: black;}#sk-container-id-1 div.sk-toggleable__content {max-height: 0;max-width: 0;overflow: hidden;text-align: left;background-color: #f0f8ff;}#sk-container-id-1 div.sk-toggleable__content pre {margin: 0.2em;color: black;border-radius: 0.25em;background-color: #f0f8ff;}#sk-container-id-1 input.sk-toggleable__control:checked~div.sk-toggleable__content {max-height: 200px;max-width: 100%;overflow: auto;}#sk-container-id-1 input.sk-toggleable__control:checked~label.sk-toggleable__label-arrow:before {content: \"▾\";}#sk-container-id-1 div.sk-estimator input.sk-toggleable__control:checked~label.sk-toggleable__label {background-color: #d4ebff;}#sk-container-id-1 div.sk-label input.sk-toggleable__control:checked~label.sk-toggleable__label {background-color: #d4ebff;}#sk-container-id-1 input.sk-hidden--visually {border: 0;clip: rect(1px 1px 1px 1px);clip: rect(1px, 1px, 1px, 1px);height: 1px;margin: -1px;overflow: hidden;padding: 0;position: absolute;width: 1px;}#sk-container-id-1 div.sk-estimator {font-family: monospace;background-color: #f0f8ff;border: 1px dotted black;border-radius: 0.25em;box-sizing: border-box;margin-bottom: 0.5em;}#sk-container-id-1 div.sk-estimator:hover {background-color: #d4ebff;}#sk-container-id-1 div.sk-parallel-item::after {content: \"\";width: 100%;border-bottom: 1px solid gray;flex-grow: 1;}#sk-container-id-1 div.sk-label:hover label.sk-toggleable__label {background-color: #d4ebff;}#sk-container-id-1 div.sk-serial::before {content: \"\";position: absolute;border-left: 1px solid gray;box-sizing: border-box;top: 0;bottom: 0;left: 50%;z-index: 0;}#sk-container-id-1 div.sk-serial {display: flex;flex-direction: column;align-items: center;background-color: white;padding-right: 0.2em;padding-left: 0.2em;position: relative;}#sk-container-id-1 div.sk-item {position: relative;z-index: 1;}#sk-container-id-1 div.sk-parallel {display: flex;align-items: stretch;justify-content: center;background-color: white;position: relative;}#sk-container-id-1 div.sk-item::before, #sk-container-id-1 div.sk-parallel-item::before {content: \"\";position: absolute;border-left: 1px solid gray;box-sizing: border-box;top: 0;bottom: 0;left: 50%;z-index: -1;}#sk-container-id-1 div.sk-parallel-item {display: flex;flex-direction: column;z-index: 1;position: relative;background-color: white;}#sk-container-id-1 div.sk-parallel-item:first-child::after {align-self: flex-end;width: 50%;}#sk-container-id-1 div.sk-parallel-item:last-child::after {align-self: flex-start;width: 50%;}#sk-container-id-1 div.sk-parallel-item:only-child::after {width: 0;}#sk-container-id-1 div.sk-dashed-wrapped {border: 1px dashed gray;margin: 0 0.4em 0.5em 0.4em;box-sizing: border-box;padding-bottom: 0.4em;background-color: white;}#sk-container-id-1 div.sk-label label {font-family: monospace;font-weight: bold;display: inline-block;line-height: 1.2em;}#sk-container-id-1 div.sk-label-container {text-align: center;}#sk-container-id-1 div.sk-container {/* jupyter's `normalize.less` sets `[hidden] { display: none; }` but bootstrap.min.css set `[hidden] { display: none !important; }` so we also need the `!important` here to be able to override the default hidden behavior on the sphinx rendered scikit-learn.org. See: https://github.com/scikit-learn/scikit-learn/issues/21755 */display: inline-block !important;position: relative;}#sk-container-id-1 div.sk-text-repr-fallback {display: none;}</style><div id=\"sk-container-id-1\" class=\"sk-top-container\"><div class=\"sk-text-repr-fallback\"><pre>RandomForestClassifier()</pre><b>In a Jupyter environment, please rerun this cell to show the HTML representation or trust the notebook. <br />On GitHub, the HTML representation is unable to render, please try loading this page with nbviewer.org.</b></div><div class=\"sk-container\" hidden><div class=\"sk-item\"><div class=\"sk-estimator sk-toggleable\"><input class=\"sk-toggleable__control sk-hidden--visually\" id=\"sk-estimator-id-1\" type=\"checkbox\" checked><label for=\"sk-estimator-id-1\" class=\"sk-toggleable__label sk-toggleable__label-arrow\">RandomForestClassifier</label><div class=\"sk-toggleable__content\"><pre>RandomForestClassifier()</pre></div></div></div></div></div>"
      ],
      "text/plain": [
       "RandomForestClassifier()"
      ]
     },
     "execution_count": 41,
     "metadata": {},
     "output_type": "execute_result"
    }
   ],
   "source": [
    "from sklearn.ensemble import RandomForestClassifier\n",
    "\n",
    "clf = RandomForestClassifier()\n",
    "\n",
    "clf.fit(X_train, y_train)"
   ]
  },
  {
   "cell_type": "markdown",
   "id": "3db26cb3",
   "metadata": {
    "papermill": {
     "duration": 0.018145,
     "end_time": "2023-01-02T10:05:58.044256",
     "exception": false,
     "start_time": "2023-01-02T10:05:58.026111",
     "status": "completed"
    },
    "tags": []
   },
   "source": [
    "## 4.2 Best parameter"
   ]
  },
  {
   "cell_type": "code",
   "execution_count": 42,
   "id": "71a65fb9",
   "metadata": {
    "execution": {
     "iopub.execute_input": "2023-01-02T10:05:58.082900Z",
     "iopub.status.busy": "2023-01-02T10:05:58.082477Z",
     "iopub.status.idle": "2023-01-02T10:06:28.454852Z",
     "shell.execute_reply": "2023-01-02T10:06:28.453663Z"
    },
    "papermill": {
     "duration": 30.412981,
     "end_time": "2023-01-02T10:06:28.475334",
     "exception": false,
     "start_time": "2023-01-02T10:05:58.062353",
     "status": "completed"
    },
    "tags": []
   },
   "outputs": [
    {
     "name": "stdout",
     "output_type": "stream",
     "text": [
      "Best value of n_estimators: 500\n"
     ]
    }
   ],
   "source": [
    "from sklearn.model_selection import GridSearchCV\n",
    "\n",
    "# Set up the parameter grid\n",
    "param_grid = {'n_estimators': [10, 50, 100, 200, 500, 600, 800, 850]}\n",
    "\n",
    "# Create the random forest classifier\n",
    "clf = RandomForestClassifier()\n",
    "\n",
    "# Set up the grid search\n",
    "grid_search = GridSearchCV(clf, param_grid, cv=5)\n",
    "\n",
    "# Fit the grid search to the data\n",
    "grid_search.fit(X_train, y_train)\n",
    "\n",
    "# Get the best value of n_estimators\n",
    "best_n_estimators = grid_search.best_params_['n_estimators']\n",
    "\n",
    "print(\"Best value of n_estimators:\", best_n_estimators)"
   ]
  },
  {
   "cell_type": "markdown",
   "id": "522d21c7",
   "metadata": {
    "papermill": {
     "duration": 0.018201,
     "end_time": "2023-01-02T10:06:28.513340",
     "exception": false,
     "start_time": "2023-01-02T10:06:28.495139",
     "status": "completed"
    },
    "tags": []
   },
   "source": [
    "## 4.2 Re-train"
   ]
  },
  {
   "cell_type": "code",
   "execution_count": 43,
   "id": "afee2ed8",
   "metadata": {
    "execution": {
     "iopub.execute_input": "2023-01-02T10:06:28.553121Z",
     "iopub.status.busy": "2023-01-02T10:06:28.552689Z",
     "iopub.status.idle": "2023-01-02T10:06:29.495541Z",
     "shell.execute_reply": "2023-01-02T10:06:29.494361Z"
    },
    "papermill": {
     "duration": 0.965604,
     "end_time": "2023-01-02T10:06:29.498160",
     "exception": false,
     "start_time": "2023-01-02T10:06:28.532556",
     "status": "completed"
    },
    "tags": []
   },
   "outputs": [
    {
     "data": {
      "text/html": [
       "<style>#sk-container-id-2 {color: black;background-color: white;}#sk-container-id-2 pre{padding: 0;}#sk-container-id-2 div.sk-toggleable {background-color: white;}#sk-container-id-2 label.sk-toggleable__label {cursor: pointer;display: block;width: 100%;margin-bottom: 0;padding: 0.3em;box-sizing: border-box;text-align: center;}#sk-container-id-2 label.sk-toggleable__label-arrow:before {content: \"▸\";float: left;margin-right: 0.25em;color: #696969;}#sk-container-id-2 label.sk-toggleable__label-arrow:hover:before {color: black;}#sk-container-id-2 div.sk-estimator:hover label.sk-toggleable__label-arrow:before {color: black;}#sk-container-id-2 div.sk-toggleable__content {max-height: 0;max-width: 0;overflow: hidden;text-align: left;background-color: #f0f8ff;}#sk-container-id-2 div.sk-toggleable__content pre {margin: 0.2em;color: black;border-radius: 0.25em;background-color: #f0f8ff;}#sk-container-id-2 input.sk-toggleable__control:checked~div.sk-toggleable__content {max-height: 200px;max-width: 100%;overflow: auto;}#sk-container-id-2 input.sk-toggleable__control:checked~label.sk-toggleable__label-arrow:before {content: \"▾\";}#sk-container-id-2 div.sk-estimator input.sk-toggleable__control:checked~label.sk-toggleable__label {background-color: #d4ebff;}#sk-container-id-2 div.sk-label input.sk-toggleable__control:checked~label.sk-toggleable__label {background-color: #d4ebff;}#sk-container-id-2 input.sk-hidden--visually {border: 0;clip: rect(1px 1px 1px 1px);clip: rect(1px, 1px, 1px, 1px);height: 1px;margin: -1px;overflow: hidden;padding: 0;position: absolute;width: 1px;}#sk-container-id-2 div.sk-estimator {font-family: monospace;background-color: #f0f8ff;border: 1px dotted black;border-radius: 0.25em;box-sizing: border-box;margin-bottom: 0.5em;}#sk-container-id-2 div.sk-estimator:hover {background-color: #d4ebff;}#sk-container-id-2 div.sk-parallel-item::after {content: \"\";width: 100%;border-bottom: 1px solid gray;flex-grow: 1;}#sk-container-id-2 div.sk-label:hover label.sk-toggleable__label {background-color: #d4ebff;}#sk-container-id-2 div.sk-serial::before {content: \"\";position: absolute;border-left: 1px solid gray;box-sizing: border-box;top: 0;bottom: 0;left: 50%;z-index: 0;}#sk-container-id-2 div.sk-serial {display: flex;flex-direction: column;align-items: center;background-color: white;padding-right: 0.2em;padding-left: 0.2em;position: relative;}#sk-container-id-2 div.sk-item {position: relative;z-index: 1;}#sk-container-id-2 div.sk-parallel {display: flex;align-items: stretch;justify-content: center;background-color: white;position: relative;}#sk-container-id-2 div.sk-item::before, #sk-container-id-2 div.sk-parallel-item::before {content: \"\";position: absolute;border-left: 1px solid gray;box-sizing: border-box;top: 0;bottom: 0;left: 50%;z-index: -1;}#sk-container-id-2 div.sk-parallel-item {display: flex;flex-direction: column;z-index: 1;position: relative;background-color: white;}#sk-container-id-2 div.sk-parallel-item:first-child::after {align-self: flex-end;width: 50%;}#sk-container-id-2 div.sk-parallel-item:last-child::after {align-self: flex-start;width: 50%;}#sk-container-id-2 div.sk-parallel-item:only-child::after {width: 0;}#sk-container-id-2 div.sk-dashed-wrapped {border: 1px dashed gray;margin: 0 0.4em 0.5em 0.4em;box-sizing: border-box;padding-bottom: 0.4em;background-color: white;}#sk-container-id-2 div.sk-label label {font-family: monospace;font-weight: bold;display: inline-block;line-height: 1.2em;}#sk-container-id-2 div.sk-label-container {text-align: center;}#sk-container-id-2 div.sk-container {/* jupyter's `normalize.less` sets `[hidden] { display: none; }` but bootstrap.min.css set `[hidden] { display: none !important; }` so we also need the `!important` here to be able to override the default hidden behavior on the sphinx rendered scikit-learn.org. See: https://github.com/scikit-learn/scikit-learn/issues/21755 */display: inline-block !important;position: relative;}#sk-container-id-2 div.sk-text-repr-fallback {display: none;}</style><div id=\"sk-container-id-2\" class=\"sk-top-container\"><div class=\"sk-text-repr-fallback\"><pre>RandomForestClassifier(n_estimators=500)</pre><b>In a Jupyter environment, please rerun this cell to show the HTML representation or trust the notebook. <br />On GitHub, the HTML representation is unable to render, please try loading this page with nbviewer.org.</b></div><div class=\"sk-container\" hidden><div class=\"sk-item\"><div class=\"sk-estimator sk-toggleable\"><input class=\"sk-toggleable__control sk-hidden--visually\" id=\"sk-estimator-id-2\" type=\"checkbox\" checked><label for=\"sk-estimator-id-2\" class=\"sk-toggleable__label sk-toggleable__label-arrow\">RandomForestClassifier</label><div class=\"sk-toggleable__content\"><pre>RandomForestClassifier(n_estimators=500)</pre></div></div></div></div></div>"
      ],
      "text/plain": [
       "RandomForestClassifier(n_estimators=500)"
      ]
     },
     "execution_count": 43,
     "metadata": {},
     "output_type": "execute_result"
    }
   ],
   "source": [
    "clf = RandomForestClassifier(n_estimators = 500)\n",
    "\n",
    "clf.fit(X_train, y_train)"
   ]
  },
  {
   "cell_type": "markdown",
   "id": "ebc9cd00",
   "metadata": {
    "papermill": {
     "duration": 0.017855,
     "end_time": "2023-01-02T10:06:29.535034",
     "exception": false,
     "start_time": "2023-01-02T10:06:29.517179",
     "status": "completed"
    },
    "tags": []
   },
   "source": [
    "## 4.3 Cross Validation"
   ]
  },
  {
   "cell_type": "code",
   "execution_count": 44,
   "id": "3832395d",
   "metadata": {
    "execution": {
     "iopub.execute_input": "2023-01-02T10:06:29.572808Z",
     "iopub.status.busy": "2023-01-02T10:06:29.572370Z",
     "iopub.status.idle": "2023-01-02T10:06:33.385486Z",
     "shell.execute_reply": "2023-01-02T10:06:33.384217Z"
    },
    "papermill": {
     "duration": 3.834881,
     "end_time": "2023-01-02T10:06:33.387830",
     "exception": false,
     "start_time": "2023-01-02T10:06:29.552949",
     "status": "completed"
    },
    "tags": []
   },
   "outputs": [
    {
     "name": "stdout",
     "output_type": "stream",
     "text": [
      "5-fold cross-validation: 0.79 (+/- 0.06)\n"
     ]
    }
   ],
   "source": [
    "from sklearn.model_selection import cross_val_score\n",
    "\n",
    "# Evaluate the classifier using 5-fold cross-validation\n",
    "scores_5 = cross_val_score(clf, X_val, y_val, cv=5)\n",
    "\n",
    "# Print the mean and standard deviation of the scores\n",
    "print(\"5-fold cross-validation: %0.2f (+/- %0.2f)\" % (scores_5.mean(), scores_5.std()))"
   ]
  },
  {
   "cell_type": "markdown",
   "id": "1cc15e30",
   "metadata": {
    "papermill": {
     "duration": 0.01804,
     "end_time": "2023-01-02T10:06:33.425035",
     "exception": false,
     "start_time": "2023-01-02T10:06:33.406995",
     "status": "completed"
    },
    "tags": []
   },
   "source": [
    "## 4.4 Feature Importance"
   ]
  },
  {
   "cell_type": "code",
   "execution_count": 45,
   "id": "5a2e8bc2",
   "metadata": {
    "_kg_hide-input": true,
    "execution": {
     "iopub.execute_input": "2023-01-02T10:06:33.463638Z",
     "iopub.status.busy": "2023-01-02T10:06:33.463234Z",
     "iopub.status.idle": "2023-01-02T10:06:33.524026Z",
     "shell.execute_reply": "2023-01-02T10:06:33.522738Z"
    },
    "papermill": {
     "duration": 0.083673,
     "end_time": "2023-01-02T10:06:33.526742",
     "exception": false,
     "start_time": "2023-01-02T10:06:33.443069",
     "status": "completed"
    },
    "tags": []
   },
   "outputs": [
    {
     "name": "stdout",
     "output_type": "stream",
     "text": [
      "Feature Importance:\n"
     ]
    },
    {
     "data": {
      "text/html": [
       "<div>\n",
       "<style scoped>\n",
       "    .dataframe tbody tr th:only-of-type {\n",
       "        vertical-align: middle;\n",
       "    }\n",
       "\n",
       "    .dataframe tbody tr th {\n",
       "        vertical-align: top;\n",
       "    }\n",
       "\n",
       "    .dataframe thead th {\n",
       "        text-align: right;\n",
       "    }\n",
       "</style>\n",
       "<table border=\"1\" class=\"dataframe\">\n",
       "  <thead>\n",
       "    <tr style=\"text-align: right;\">\n",
       "      <th></th>\n",
       "      <th>importance</th>\n",
       "    </tr>\n",
       "    <tr>\n",
       "      <th>feature</th>\n",
       "      <th></th>\n",
       "    </tr>\n",
       "  </thead>\n",
       "  <tbody>\n",
       "    <tr>\n",
       "      <th>Fare</th>\n",
       "      <td>0.247</td>\n",
       "    </tr>\n",
       "    <tr>\n",
       "      <th>Age</th>\n",
       "      <td>0.224</td>\n",
       "    </tr>\n",
       "    <tr>\n",
       "      <th>Title_Mr</th>\n",
       "      <td>0.134</td>\n",
       "    </tr>\n",
       "    <tr>\n",
       "      <th>Sex_male</th>\n",
       "      <td>0.115</td>\n",
       "    </tr>\n",
       "    <tr>\n",
       "      <th>Pclass</th>\n",
       "      <td>0.079</td>\n",
       "    </tr>\n",
       "    <tr>\n",
       "      <th>SibSp</th>\n",
       "      <td>0.056</td>\n",
       "    </tr>\n",
       "    <tr>\n",
       "      <th>Title_Mrs</th>\n",
       "      <td>0.043</td>\n",
       "    </tr>\n",
       "    <tr>\n",
       "      <th>Parch</th>\n",
       "      <td>0.035</td>\n",
       "    </tr>\n",
       "    <tr>\n",
       "      <th>Title_Miss</th>\n",
       "      <td>0.029</td>\n",
       "    </tr>\n",
       "    <tr>\n",
       "      <th>Embarked_S</th>\n",
       "      <td>0.021</td>\n",
       "    </tr>\n",
       "    <tr>\n",
       "      <th>Embarked_Q</th>\n",
       "      <td>0.010</td>\n",
       "    </tr>\n",
       "    <tr>\n",
       "      <th>Title_Other</th>\n",
       "      <td>0.008</td>\n",
       "    </tr>\n",
       "  </tbody>\n",
       "</table>\n",
       "</div>"
      ],
      "text/plain": [
       "             importance\n",
       "feature                \n",
       "Fare              0.247\n",
       "Age               0.224\n",
       "Title_Mr          0.134\n",
       "Sex_male          0.115\n",
       "Pclass            0.079\n",
       "SibSp             0.056\n",
       "Title_Mrs         0.043\n",
       "Parch             0.035\n",
       "Title_Miss        0.029\n",
       "Embarked_S        0.021\n",
       "Embarked_Q        0.010\n",
       "Title_Other       0.008"
      ]
     },
     "execution_count": 45,
     "metadata": {},
     "output_type": "execute_result"
    }
   ],
   "source": [
    "importances = pd.DataFrame({'feature':train_columns,'importance':np.round(clf.feature_importances_,3)})\n",
    "importances = importances.sort_values('importance',ascending=False).set_index('feature')\n",
    "\n",
    "print('Feature Importance:')\n",
    "importances"
   ]
  },
  {
   "cell_type": "code",
   "execution_count": 46,
   "id": "687ac1be",
   "metadata": {
    "_kg_hide-input": true,
    "execution": {
     "iopub.execute_input": "2023-01-02T10:06:33.566196Z",
     "iopub.status.busy": "2023-01-02T10:06:33.565828Z",
     "iopub.status.idle": "2023-01-02T10:06:33.901925Z",
     "shell.execute_reply": "2023-01-02T10:06:33.900851Z"
    },
    "papermill": {
     "duration": 0.35874,
     "end_time": "2023-01-02T10:06:33.904558",
     "exception": false,
     "start_time": "2023-01-02T10:06:33.545818",
     "status": "completed"
    },
    "tags": []
   },
   "outputs": [
    {
     "data": {
      "text/plain": [
       "<AxesSubplot: xlabel='feature'>"
      ]
     },
     "execution_count": 46,
     "metadata": {},
     "output_type": "execute_result"
    },
    {
     "data": {
      "image/png": "[encoded data removed]",
      "text/plain": [
       "<Figure size 640x480 with 1 Axes>"
      ]
     },
     "metadata": {},
     "output_type": "display_data"
    }
   ],
   "source": [
    "importances.plot.bar()"
   ]
  },
  {
   "cell_type": "markdown",
   "id": "1c614566",
   "metadata": {
    "papermill": {
     "duration": 0.019355,
     "end_time": "2023-01-02T10:06:33.943691",
     "exception": false,
     "start_time": "2023-01-02T10:06:33.924336",
     "status": "completed"
    },
    "tags": []
   },
   "source": [
    "## 4.5 Evaluation"
   ]
  },
  {
   "cell_type": "code",
   "execution_count": 47,
   "id": "9f78e5a8",
   "metadata": {
    "execution": {
     "iopub.execute_input": "2023-01-02T10:06:33.983926Z",
     "iopub.status.busy": "2023-01-02T10:06:33.983477Z",
     "iopub.status.idle": "2023-01-02T10:06:34.085690Z",
     "shell.execute_reply": "2023-01-02T10:06:34.084765Z"
    },
    "papermill": {
     "duration": 0.125124,
     "end_time": "2023-01-02T10:06:34.088254",
     "exception": false,
     "start_time": "2023-01-02T10:06:33.963130",
     "status": "completed"
    },
    "tags": []
   },
   "outputs": [],
   "source": [
    "predictions = clf.predict(X_test)"
   ]
  },
  {
   "cell_type": "code",
   "execution_count": 48,
   "id": "697e2268",
   "metadata": {
    "execution": {
     "iopub.execute_input": "2023-01-02T10:06:34.128215Z",
     "iopub.status.busy": "2023-01-02T10:06:34.127849Z",
     "iopub.status.idle": "2023-01-02T10:06:34.137967Z",
     "shell.execute_reply": "2023-01-02T10:06:34.136934Z"
    },
    "papermill": {
     "duration": 0.033824,
     "end_time": "2023-01-02T10:06:34.141241",
     "exception": false,
     "start_time": "2023-01-02T10:06:34.107417",
     "status": "completed"
    },
    "tags": []
   },
   "outputs": [
    {
     "name": "stdout",
     "output_type": "stream",
     "text": [
      "Classification Report:\n",
      "\n",
      "              precision    recall  f1-score   support\n",
      "\n",
      "           0       0.90      0.94      0.92       266\n",
      "           1       0.88      0.81      0.85       152\n",
      "\n",
      "    accuracy                           0.89       418\n",
      "   macro avg       0.89      0.87      0.88       418\n",
      "weighted avg       0.89      0.89      0.89       418\n",
      "\n"
     ]
    }
   ],
   "source": [
    "from sklearn.metrics import classification_report, confusion_matrix, ConfusionMatrixDisplay\n",
    "\n",
    "print('Classification Report:')\n",
    "print()\n",
    "print(classification_report(y_test, predictions))"
   ]
  },
  {
   "cell_type": "code",
   "execution_count": 49,
   "id": "c7520a0b",
   "metadata": {
    "_kg_hide-input": true,
    "execution": {
     "iopub.execute_input": "2023-01-02T10:06:34.181841Z",
     "iopub.status.busy": "2023-01-02T10:06:34.181470Z",
     "iopub.status.idle": "2023-01-02T10:06:34.325311Z",
     "shell.execute_reply": "2023-01-02T10:06:34.323612Z"
    },
    "papermill": {
     "duration": 0.169557,
     "end_time": "2023-01-02T10:06:34.331096",
     "exception": false,
     "start_time": "2023-01-02T10:06:34.161539",
     "status": "completed"
    },
    "tags": []
   },
   "outputs": [
    {
     "name": "stdout",
     "output_type": "stream",
     "text": [
      "Confusion Matrix:\n",
      "\n"
     ]
    },
    {
     "data": {
      "image/png": "[encoded data removed]",
      "text/plain": [
       "<Figure size 640x480 with 1 Axes>"
      ]
     },
     "metadata": {},
     "output_type": "display_data"
    }
   ],
   "source": [
    "print('Confusion Matrix:')\n",
    "print()\n",
    "ConfusionMatrixDisplay.from_predictions(y_test, predictions, colorbar = False, cmap = 'flare')\n",
    "plt.grid(False)"
   ]
  },
  {
   "cell_type": "markdown",
   "id": "a3185146",
   "metadata": {
    "papermill": {
     "duration": 0.01953,
     "end_time": "2023-01-02T10:06:34.400798",
     "exception": false,
     "start_time": "2023-01-02T10:06:34.381268",
     "status": "completed"
    },
    "tags": []
   },
   "source": [
    "## 4.6 Submission"
   ]
  },
  {
   "cell_type": "code",
   "execution_count": 50,
   "id": "5c8b504d",
   "metadata": {
    "execution": {
     "iopub.execute_input": "2023-01-02T10:06:34.440709Z",
     "iopub.status.busy": "2023-01-02T10:06:34.440282Z",
     "iopub.status.idle": "2023-01-02T10:06:34.452042Z",
     "shell.execute_reply": "2023-01-02T10:06:34.451009Z"
    },
    "papermill": {
     "duration": 0.034244,
     "end_time": "2023-01-02T10:06:34.454071",
     "exception": false,
     "start_time": "2023-01-02T10:06:34.419827",
     "status": "completed"
    },
    "tags": []
   },
   "outputs": [
    {
     "data": {
      "text/html": [
       "<div>\n",
       "<style scoped>\n",
       "    .dataframe tbody tr th:only-of-type {\n",
       "        vertical-align: middle;\n",
       "    }\n",
       "\n",
       "    .dataframe tbody tr th {\n",
       "        vertical-align: top;\n",
       "    }\n",
       "\n",
       "    .dataframe thead th {\n",
       "        text-align: right;\n",
       "    }\n",
       "</style>\n",
       "<table border=\"1\" class=\"dataframe\">\n",
       "  <thead>\n",
       "    <tr style=\"text-align: right;\">\n",
       "      <th></th>\n",
       "      <th>PassengerId</th>\n",
       "      <th>Survived</th>\n",
       "    </tr>\n",
       "  </thead>\n",
       "  <tbody>\n",
       "    <tr>\n",
       "      <th>0</th>\n",
       "      <td>892</td>\n",
       "      <td>0</td>\n",
       "    </tr>\n",
       "    <tr>\n",
       "      <th>1</th>\n",
       "      <td>893</td>\n",
       "      <td>0</td>\n",
       "    </tr>\n",
       "    <tr>\n",
       "      <th>2</th>\n",
       "      <td>894</td>\n",
       "      <td>0</td>\n",
       "    </tr>\n",
       "    <tr>\n",
       "      <th>3</th>\n",
       "      <td>895</td>\n",
       "      <td>0</td>\n",
       "    </tr>\n",
       "    <tr>\n",
       "      <th>4</th>\n",
       "      <td>896</td>\n",
       "      <td>0</td>\n",
       "    </tr>\n",
       "  </tbody>\n",
       "</table>\n",
       "</div>"
      ],
      "text/plain": [
       "   PassengerId  Survived\n",
       "0          892         0\n",
       "1          893         0\n",
       "2          894         0\n",
       "3          895         0\n",
       "4          896         0"
      ]
     },
     "execution_count": 50,
     "metadata": {},
     "output_type": "execute_result"
    }
   ],
   "source": [
    "submission = pd.DataFrame(predictions, columns = ['Survived'])\n",
    "submission = pd.concat([test['PassengerId'], submission], axis = 1)\n",
    "submission.head()"
   ]
  },
  {
   "cell_type": "code",
   "execution_count": 51,
   "id": "1364a9a5",
   "metadata": {
    "execution": {
     "iopub.execute_input": "2023-01-02T10:06:34.494582Z",
     "iopub.status.busy": "2023-01-02T10:06:34.494180Z",
     "iopub.status.idle": "2023-01-02T10:06:34.509245Z",
     "shell.execute_reply": "2023-01-02T10:06:34.507975Z"
    },
    "papermill": {
     "duration": 0.037933,
     "end_time": "2023-01-02T10:06:34.511482",
     "exception": false,
     "start_time": "2023-01-02T10:06:34.473549",
     "status": "completed"
    },
    "tags": []
   },
   "outputs": [
    {
     "name": "stdout",
     "output_type": "stream",
     "text": [
      "<class 'pandas.core.frame.DataFrame'>\n",
      "RangeIndex: 418 entries, 0 to 417\n",
      "Data columns (total 2 columns):\n",
      " #   Column       Non-Null Count  Dtype\n",
      "---  ------       --------------  -----\n",
      " 0   PassengerId  418 non-null    int64\n",
      " 1   Survived     418 non-null    int64\n",
      "dtypes: int64(2)\n",
      "memory usage: 6.7 KB\n"
     ]
    }
   ],
   "source": [
    "submission.info()"
   ]
  },
  {
   "cell_type": "code",
   "execution_count": 52,
   "id": "e955b255",
   "metadata": {
    "execution": {
     "iopub.execute_input": "2023-01-02T10:06:34.551877Z",
     "iopub.status.busy": "2023-01-02T10:06:34.551512Z",
     "iopub.status.idle": "2023-01-02T10:06:34.559290Z",
     "shell.execute_reply": "2023-01-02T10:06:34.558501Z"
    },
    "papermill": {
     "duration": 0.030208,
     "end_time": "2023-01-02T10:06:34.561233",
     "exception": false,
     "start_time": "2023-01-02T10:06:34.531025",
     "status": "completed"
    },
    "tags": []
   },
   "outputs": [
    {
     "data": {
      "text/plain": [
       "0    279\n",
       "1    139\n",
       "Name: Survived, dtype: int64"
      ]
     },
     "execution_count": 52,
     "metadata": {},
     "output_type": "execute_result"
    }
   ],
   "source": [
    "submission['Survived'].value_counts()"
   ]
  },
  {
   "cell_type": "code",
   "execution_count": 53,
   "id": "155571ec",
   "metadata": {
    "execution": {
     "iopub.execute_input": "2023-01-02T10:06:34.601330Z",
     "iopub.status.busy": "2023-01-02T10:06:34.600931Z",
     "iopub.status.idle": "2023-01-02T10:06:34.808468Z",
     "shell.execute_reply": "2023-01-02T10:06:34.807606Z"
    },
    "papermill": {
     "duration": 0.230458,
     "end_time": "2023-01-02T10:06:34.810900",
     "exception": false,
     "start_time": "2023-01-02T10:06:34.580442",
     "status": "completed"
    },
    "tags": []
   },
   "outputs": [],
   "source": [
    "submission = submission.to_csv('kaggle_titanic.csv',index=False)"
   ]
  }
 ],
 "metadata": {
  "kernelspec": {
   "display_name": "Python 3 (ipykernel)",
   "language": "python",
   "name": "python3"
  },
  "language_info": {
   "codemirror_mode": {
    "name": "ipython",
    "version": 3
   },
   "file_extension": ".py",
   "mimetype": "text/x-python",
   "name": "python",
   "nbconvert_exporter": "python",
   "pygments_lexer": "ipython3",
   "version": "3.8.10"
  },
  "papermill": {
   "default_parameters": {},
   "duration": 60.773856,
   "end_time": "2023-01-02T10:06:38.163860",
   "environment_variables": {},
   "exception": null,
   "input_path": "__notebook__.ipynb",
   "output_path": "__notebook__.ipynb",
   "parameters": {},
   "start_time": "2023-01-02T10:05:37.390004",
   "version": "2.3.4"
  }
 },
 "nbformat": 4,
 "nbformat_minor": 5
}
